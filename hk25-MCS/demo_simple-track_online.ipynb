{
 "cells": [
  {
   "cell_type": "markdown",
   "id": "83c2a74f-0b3b-4d01-81c4-f9fb14737b0a",
   "metadata": {},
   "source": [
    "# simple-track demo\n",
    "\n",
    "* Developed by Calum Scullion (calum.scullion@metoffice.gov.uk) and Mark Muetzelfeldt (mark.muetzelfeldt@reading.ac.uk)\n",
    "* Uses a modified version of the simple-track code found here: https://github.com/thmstein/simple-track\n",
    "* Can be run anywhre but very limited tracks to explore (2 days).\n",
    "* More data can be made available upon request (Mark)"
   ]
  },
  {
   "cell_type": "code",
   "execution_count": null,
   "id": "89a3f92b-de33-41c2-b919-cb2d8a708cbb",
   "metadata": {},
   "outputs": [],
   "source": [
    "import sys\n",
    "import pickle\n",
    "import requests\n",
    "from io import BytesIO\n",
    "import numpy as np\n",
    "import matplotlib.pyplot as plt\n",
    "import cartopy.crs as ccrs\n",
    "\n",
    "# Need module `classes` to be available in namespace before we can unpickle tracks.\n",
    "import classes  # Technically you don't need to import but do it explicitly so people can see where the classes are defined."
   ]
  },
  {
   "cell_type": "code",
   "execution_count": null,
   "id": "43f397f6-2ee4-45dd-997f-e79acc91c77c",
   "metadata": {},
   "outputs": [],
   "source": [
    "baseurl = 'https://hackathon-o.s3-ext.jc.rl.ac.uk/sim-data/analysis/'\n",
    "# If on JASMIN you can use:\n",
    "# baseurl = 'http://hackathon-o.s3.jc.rl.ac.uk/sim-data/analysis/'"
   ]
  },
  {
   "cell_type": "code",
   "execution_count": null,
   "id": "ee21c251-ba7d-4959-97e8-5644453b891b",
   "metadata": {},
   "outputs": [],
   "source": [
    "# Loads tracks from the UM 5km RAL3 stored as a pickle in the JASMIN obj store.\n",
    "relurl = 'MCS_tracking_fd/DYMECS/5km-RAL3/Tb/40000km2/tracks/240K/20200201-20200203/fixed/geom_cen/60min/sm_5pixels/halo_0pixels/removed_false_mergers/on_GPM_True/tracks.p'\n",
    "response = requests.get(baseurl + relurl)\n",
    "tracks = pickle.load(BytesIO(response.content))"
   ]
  },
  {
   "cell_type": "code",
   "execution_count": null,
   "id": "5c61fad8-500a-4912-b98f-a3bf4b75903b",
   "metadata": {},
   "outputs": [],
   "source": [
    "# Required to estimate storm size\n",
    "def haversine(src, dest):\n",
    "    # src/dest = (lat, lon)\n",
    "    # Returns distance in km\n",
    "    src = np.radians(src)\n",
    "    dest = np.radians(dest)\n",
    "    a = (np.sin(0.5 * (src[0]-dest[0]))**2 + np.cos(src[0]) * np.cos(dest[0]) * np.sin(0.5 * (src[1]-dest[1]))**2)\n",
    "    angsep_in_rad = 2.0 * np.arctan2(np.sqrt(a), np.sqrt(1.0-a))\n",
    "    return angsep_in_rad / 1000.0 * 6371229.0"
   ]
  },
  {
   "cell_type": "code",
   "execution_count": null,
   "id": "8d26f76f-5e0a-442b-a236-a9add1fcee37",
   "metadata": {},
   "outputs": [],
   "source": [
    "# Filter tracks\n",
    "min_track_length = 4 # hours\n",
    "cct_threshold = 225 # Minimum Tb must be < 225K during the MCS lifetime to account for overshooting tops\n",
    "object_rain_above = 10 # mm/hour for 4 hours\n",
    "hourly_precip_volume_threshold = 20000 # 20000 km**2 mm/h\n",
    "grid_length = 10 # km, GPM grid\n",
    "grid_length_deg = 0.1 # deg, GPM grid\n",
    "\n",
    "nTracks = len(tracks)\n",
    "print(f\"{nTracks} tracks exist\")\n",
    "\n",
    "tracks = [track for track in tracks if track.get_lifetime() > min_track_length]\n",
    "print(f\"{nTracks - len(tracks)} tracks less than 4h, {len(tracks)} remain\")\n",
    "nTracks = len(tracks)\n",
    "\n",
    "tracks = [track for track in tracks if all([track.get_storms()[i].minTb < cct_threshold for i in np.arange(track.get_lifetime())])]\n",
    "print(f\"{nTracks - len(tracks)} tracks do not have a min Tb < {cct_threshold}, {len(tracks)} remain\")\n",
    "nTracks = len(tracks)\n",
    " \n",
    "tracks = [track for track in tracks if any(all(track.get_storms()[i+j].maxpr > object_rain_above for j in range(4)) for i in range(track.get_lifetime() - 3))]\n",
    "print(f\"{nTracks - len(tracks)} tracks do not have a max precip rate > {object_rain_above} for 4 consecutive hours, {len(tracks)} remain\")\n",
    "nTracks = len(tracks)\n",
    "\n",
    "# .area is number of grid boxes, not km**2, so use haversine to estimate grid box areas to km**2 assuming latitude of storm centre is a good estimate of longitude length\n",
    "tracks = [track for track in tracks if any([(track.get_storms()[i].meanpr * (track.get_storms()[i].area * grid_length * haversine([track.get_storms()[i].centroidlat, 0], [track.get_storms()[i].centroidlat, grid_length_deg])))\n",
    "             > hourly_precip_volume_threshold for i in np.arange(track.get_lifetime())])]\n",
    "print(f\"{nTracks - len(tracks)} tracks do not have a max hourly_precip_volume_threshold > {hourly_precip_volume_threshold}, {len(tracks)} remain\")\n",
    "nTracks = len(tracks)\n"
   ]
  },
  {
   "cell_type": "code",
   "execution_count": null,
   "id": "a4ae90ac-9f83-4549-82bd-271a419d923f",
   "metadata": {},
   "outputs": [],
   "source": [
    "f = plt.figure()\n",
    "ax = f.add_subplot(111, projection=ccrs.PlateCarree())\n",
    "lons = [storm.centroidlon for track in tracks for storm in track.get_storms()]\n",
    "lats = [storm.centroidlat for track in tracks for storm in track.get_storms()]\n",
    "\n",
    "plt.scatter(lons, lats, marker=\".\")\n",
    "ax.coastlines(\"50m\")"
   ]
  },
  {
   "cell_type": "code",
   "execution_count": null,
   "id": "e089734d-70f9-4bed-aeff-6d0be5f59893",
   "metadata": {},
   "outputs": [],
   "source": []
  },
  {
   "cell_type": "code",
   "execution_count": null,
   "id": "f284902b-c2b7-47ef-bc21-8e84ec59af98",
   "metadata": {},
   "outputs": [],
   "source": []
  }
 ],
 "metadata": {
  "kernelspec": {
   "display_name": "mcs_prime_env",
   "language": "python",
   "name": "mcs_prime_env"
  },
  "language_info": {
   "codemirror_mode": {
    "name": "ipython",
    "version": 3
   },
   "file_extension": ".py",
   "mimetype": "text/x-python",
   "name": "python",
   "nbconvert_exporter": "python",
   "pygments_lexer": "ipython3",
   "version": "3.10.4"
  }
 },
 "nbformat": 4,
 "nbformat_minor": 5
}
