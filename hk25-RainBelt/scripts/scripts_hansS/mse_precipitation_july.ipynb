{
 "cells": [
  {
   "cell_type": "markdown",
   "id": "9ce0d937",
   "metadata": {},
   "source": [
    "# Calculate BL MSE and precip july"
   ]
  },
  {
   "cell_type": "code",
   "execution_count": 2,
   "id": "36ec5a4b",
   "metadata": {},
   "outputs": [
    {
     "name": "stderr",
     "output_type": "stream",
     "text": [
      "/sw/spack-levante/mambaforge-23.1.0-1-Linux-x86_64-3boc6i/lib/python3.10/site-packages/pandas/core/computation/expressions.py:21: UserWarning: Pandas requires version '2.8.4' or newer of 'numexpr' (version '2.7.3' currently installed).\n",
      "  from pandas.core.computation.check import NUMEXPR_INSTALLED\n"
     ]
    }
   ],
   "source": [
    "import sys\n",
    "sys.path.append('/work/mh0731/m300876/package/')\n",
    "import icons\n",
    "import intake\n",
    "import matplotlib.pyplot as plt\n",
    "import healpy as hp\n",
    "import xarray as xr\n",
    "import numpy as np\n",
    "import easygems.healpix as egh\n",
    "import seaborn as sns\n",
    "import cmocean"
   ]
  },
  {
   "cell_type": "code",
   "execution_count": 3,
   "id": "2503d081",
   "metadata": {},
   "outputs": [
    {
     "name": "stdout",
     "output_type": "stream",
     "text": [
      "Number of CPUs: 256, number of threads: 256, number of workers: 1, processes: False\n"
     ]
    },
    {
     "data": {
      "text/html": [
       "<div>\n",
       "    <div style=\"width: 24px; height: 24px; background-color: #e1e1e1; border: 3px solid #9D9D9D; border-radius: 5px; position: absolute;\"> </div>\n",
       "    <div style=\"margin-left: 48px;\">\n",
       "        <h3 style=\"margin-bottom: 0px;\">Client</h3>\n",
       "        <p style=\"color: #9D9D9D; margin-bottom: 0px;\">Client-b0ac14bf-3093-11f0-8e38-080038c03571</p>\n",
       "        <table style=\"width: 100%; text-align: left;\">\n",
       "\n",
       "        <tr>\n",
       "        \n",
       "            <td style=\"text-align: left;\"><strong>Connection method:</strong> Cluster object</td>\n",
       "            <td style=\"text-align: left;\"><strong>Cluster type:</strong> distributed.LocalCluster</td>\n",
       "        \n",
       "        </tr>\n",
       "\n",
       "        \n",
       "            <tr>\n",
       "                <td style=\"text-align: left;\">\n",
       "                    <strong>Dashboard: </strong> <a href=\"/user/m300876/levante-spawner-advanced//proxy/8787/status\" target=\"_blank\">/user/m300876/levante-spawner-advanced//proxy/8787/status</a>\n",
       "                </td>\n",
       "                <td style=\"text-align: left;\"></td>\n",
       "            </tr>\n",
       "        \n",
       "\n",
       "        </table>\n",
       "\n",
       "        \n",
       "\n",
       "        \n",
       "            <details>\n",
       "            <summary style=\"margin-bottom: 20px;\"><h3 style=\"display: inline;\">Cluster Info</h3></summary>\n",
       "            <div class=\"jp-RenderedHTMLCommon jp-RenderedHTML jp-mod-trusted jp-OutputArea-output\">\n",
       "    <div style=\"width: 24px; height: 24px; background-color: #e1e1e1; border: 3px solid #9D9D9D; border-radius: 5px; position: absolute;\">\n",
       "    </div>\n",
       "    <div style=\"margin-left: 48px;\">\n",
       "        <h3 style=\"margin-bottom: 0px; margin-top: 0px;\">LocalCluster</h3>\n",
       "        <p style=\"color: #9D9D9D; margin-bottom: 0px;\">b56e270c</p>\n",
       "        <table style=\"width: 100%; text-align: left;\">\n",
       "            <tr>\n",
       "                <td style=\"text-align: left;\">\n",
       "                    <strong>Dashboard:</strong> <a href=\"/user/m300876/levante-spawner-advanced//proxy/8787/status\" target=\"_blank\">/user/m300876/levante-spawner-advanced//proxy/8787/status</a>\n",
       "                </td>\n",
       "                <td style=\"text-align: left;\">\n",
       "                    <strong>Workers:</strong> 1\n",
       "                </td>\n",
       "            </tr>\n",
       "            <tr>\n",
       "                <td style=\"text-align: left;\">\n",
       "                    <strong>Total threads:</strong> 256\n",
       "                </td>\n",
       "                <td style=\"text-align: left;\">\n",
       "                    <strong>Total memory:</strong> 93.13 GiB\n",
       "                </td>\n",
       "            </tr>\n",
       "            \n",
       "            <tr>\n",
       "    <td style=\"text-align: left;\"><strong>Status:</strong> running</td>\n",
       "    <td style=\"text-align: left;\"><strong>Using processes:</strong> False</td>\n",
       "</tr>\n",
       "\n",
       "            \n",
       "        </table>\n",
       "\n",
       "        <details>\n",
       "            <summary style=\"margin-bottom: 20px;\">\n",
       "                <h3 style=\"display: inline;\">Scheduler Info</h3>\n",
       "            </summary>\n",
       "\n",
       "            <div style=\"\">\n",
       "    <div>\n",
       "        <div style=\"width: 24px; height: 24px; background-color: #FFF7E5; border: 3px solid #FF6132; border-radius: 5px; position: absolute;\"> </div>\n",
       "        <div style=\"margin-left: 48px;\">\n",
       "            <h3 style=\"margin-bottom: 0px;\">Scheduler</h3>\n",
       "            <p style=\"color: #9D9D9D; margin-bottom: 0px;\">Scheduler-8f59abb8-7a9a-4b70-afa9-a109f54e06ca</p>\n",
       "            <table style=\"width: 100%; text-align: left;\">\n",
       "                <tr>\n",
       "                    <td style=\"text-align: left;\">\n",
       "                        <strong>Comm:</strong> inproc://136.172.120.114/2313784/1\n",
       "                    </td>\n",
       "                    <td style=\"text-align: left;\">\n",
       "                        <strong>Workers:</strong> 1\n",
       "                    </td>\n",
       "                </tr>\n",
       "                <tr>\n",
       "                    <td style=\"text-align: left;\">\n",
       "                        <strong>Dashboard:</strong> <a href=\"/user/m300876/levante-spawner-advanced//proxy/8787/status\" target=\"_blank\">/user/m300876/levante-spawner-advanced//proxy/8787/status</a>\n",
       "                    </td>\n",
       "                    <td style=\"text-align: left;\">\n",
       "                        <strong>Total threads:</strong> 256\n",
       "                    </td>\n",
       "                </tr>\n",
       "                <tr>\n",
       "                    <td style=\"text-align: left;\">\n",
       "                        <strong>Started:</strong> Just now\n",
       "                    </td>\n",
       "                    <td style=\"text-align: left;\">\n",
       "                        <strong>Total memory:</strong> 93.13 GiB\n",
       "                    </td>\n",
       "                </tr>\n",
       "            </table>\n",
       "        </div>\n",
       "    </div>\n",
       "\n",
       "    <details style=\"margin-left: 48px;\">\n",
       "        <summary style=\"margin-bottom: 20px;\">\n",
       "            <h3 style=\"display: inline;\">Workers</h3>\n",
       "        </summary>\n",
       "\n",
       "        \n",
       "        <div style=\"margin-bottom: 20px;\">\n",
       "            <div style=\"width: 24px; height: 24px; background-color: #DBF5FF; border: 3px solid #4CC9FF; border-radius: 5px; position: absolute;\"> </div>\n",
       "            <div style=\"margin-left: 48px;\">\n",
       "            <details>\n",
       "                <summary>\n",
       "                    <h4 style=\"margin-bottom: 0px; display: inline;\">Worker: 0</h4>\n",
       "                </summary>\n",
       "                <table style=\"width: 100%; text-align: left;\">\n",
       "                    <tr>\n",
       "                        <td style=\"text-align: left;\">\n",
       "                            <strong>Comm: </strong> inproc://136.172.120.114/2313784/4\n",
       "                        </td>\n",
       "                        <td style=\"text-align: left;\">\n",
       "                            <strong>Total threads: </strong> 256\n",
       "                        </td>\n",
       "                    </tr>\n",
       "                    <tr>\n",
       "                        <td style=\"text-align: left;\">\n",
       "                            <strong>Dashboard: </strong> <a href=\"/user/m300876/levante-spawner-advanced//proxy/45363/status\" target=\"_blank\">/user/m300876/levante-spawner-advanced//proxy/45363/status</a>\n",
       "                        </td>\n",
       "                        <td style=\"text-align: left;\">\n",
       "                            <strong>Memory: </strong> 93.13 GiB\n",
       "                        </td>\n",
       "                    </tr>\n",
       "                    <tr>\n",
       "                        <td style=\"text-align: left;\">\n",
       "                            <strong>Nanny: </strong> None\n",
       "                        </td>\n",
       "                        <td style=\"text-align: left;\"></td>\n",
       "                    </tr>\n",
       "                    <tr>\n",
       "                        <td colspan=\"2\" style=\"text-align: left;\">\n",
       "                            <strong>Local directory: </strong> /tmp/dask-worker-space/worker-4av0uw20\n",
       "                        </td>\n",
       "                    </tr>\n",
       "\n",
       "                    \n",
       "\n",
       "                    \n",
       "\n",
       "                </table>\n",
       "            </details>\n",
       "            </div>\n",
       "        </div>\n",
       "        \n",
       "\n",
       "    </details>\n",
       "</div>\n",
       "\n",
       "        </details>\n",
       "    </div>\n",
       "</div>\n",
       "            </details>\n",
       "        \n",
       "\n",
       "    </div>\n",
       "</div>"
      ],
      "text/plain": [
       "<Client: 'inproc://136.172.120.114/2313784/1' processes=1 threads=256, memory=93.13 GiB>"
      ]
     },
     "execution_count": 3,
     "metadata": {},
     "output_type": "execute_result"
    }
   ],
   "source": [
    "icons.prepare_cpu(memory='100GB')"
   ]
  },
  {
   "cell_type": "markdown",
   "id": "0af16137",
   "metadata": {},
   "source": [
    "### Predefined functions"
   ]
  },
  {
   "cell_type": "code",
   "execution_count": 4,
   "id": "b2569188",
   "metadata": {},
   "outputs": [],
   "source": [
    "#### componenets of NGMS\n",
    "g = 9.81\n",
    "cp = 1005 ## J kg-1 K-1\n",
    "Lv = 2500.93e3\n",
    "\n",
    "### Calculate omega \n",
    "def calc_evapor(ds):\n",
    "    epsilon = 0.622 #ratio of molar masses of vapor and dry air (0.622)\n",
    "    return (ds.hus*ds.pressure)/(epsilon + (1-epsilon)*ds.hus)\n",
    "\n",
    "def calc_pdry(ds):\n",
    "    return ds.pressure - calc_evapor(ds)\n",
    "\n",
    "def calc_density(ds):\n",
    "    Md = 0.0289652  #molar mass of dry air, 0.0289652 kg/mol\n",
    "    Mv = 0.018016 # molar mass of water vapor, 0.018016 kg/mol\n",
    "    R = 8.31446 # universal gas constant, 8.31446 J/(K·mol)\n",
    "    return (calc_pdry(ds)*Md + calc_evapor(ds)*Mv)/(R*ds.ta)\n",
    "\n",
    "def calc_omega(ds):\n",
    "    return -calc_density(ds)*ds.wa*g\n",
    "\n",
    "### Energy components\n",
    "def calc_mse(ds):\n",
    "    cv = 719 ## J kg-1 K-1\n",
    "    Lf = 334e3\n",
    "    return cp*ds.ta + Lv*ds.hus + g*ds.zg\n",
    "\n",
    "###wind\n",
    "def calc_sfcwind(ds):\n",
    "    return ((ds.uas**2)+(ds.vas**2))**0.5\n",
    "\n",
    "##surface fluxes\n",
    "def net_fluxes(ds):\n",
    "    return (-ds.hflsd - ds.hfssd)"
   ]
  },
  {
   "cell_type": "code",
   "execution_count": 5,
   "id": "57e142e5",
   "metadata": {},
   "outputs": [],
   "source": [
    "### Location mask\n",
    "def tropics(ds):\n",
    "    return np.abs(ds.lat) <= 30.1\n",
    "\n",
    "def equator(ds):\n",
    "    return np.abs(ds.lat) <= 5.1\n",
    "\n",
    "def equator2(ds):\n",
    "    return (ds.lat >= 2.1) & (ds.lat <= 12.1)\n",
    "\n",
    "def wpacific(ds):\n",
    "    return equator(ds) & (ds.lon>150) & (ds.lon<170)\n",
    "\n",
    "def epacific(ds):\n",
    "    return equator2(ds) & (ds.lon>240) & (ds.lon<260)\n",
    "\n",
    "def ocean(ds):\n",
    "    return (np.isnan(ds.sftlf))"
   ]
  },
  {
   "cell_type": "markdown",
   "id": "c0d2970d",
   "metadata": {},
   "source": [
    "## Calling data"
   ]
  },
  {
   "cell_type": "code",
   "execution_count": 6,
   "id": "5cf330cd",
   "metadata": {},
   "outputs": [
    {
     "name": "stdout",
     "output_type": "stream",
     "text": [
      "CPU times: user 1.89 s, sys: 697 ms, total: 2.59 s\n",
      "Wall time: 17.7 s\n"
     ]
    }
   ],
   "source": [
    "%%time\n",
    "### ICON\n",
    "current_location = \"online\"\n",
    "cat = cat = intake.open_catalog(\n",
    "    \"https://digital-earths-global-hackathon.github.io/catalog/catalog.yaml\")[current_location]\n",
    "exp_name = \"icon_d3hp003\"\n",
    "experiment = cat[exp_name]\n",
    "time_slice = slice(\"2020-07-01\", \"2020-07-31\")\n",
    "ds_icon = (\n",
    "    experiment(zoom=8, time=\"P1D\", chunks=\"auto\")\n",
    "    .to_dask()\n",
    "    .pipe(egh.attach_coords)\n",
    "    .sel(time=time_slice)\n",
    ")"
   ]
  },
  {
   "cell_type": "code",
   "execution_count": 7,
   "id": "e02f1cd9",
   "metadata": {},
   "outputs": [
    {
     "name": "stdout",
     "output_type": "stream",
     "text": [
      "CPU times: user 83.6 ms, sys: 5.8 ms, total: 89.4 ms\n",
      "Wall time: 1.83 s\n"
     ]
    }
   ],
   "source": [
    "%%time\n",
    "### NICAM\n",
    "exp_name = \"nicam_gl11\"\n",
    "experiment = cat[exp_name]\n",
    "time_slice = slice(\"2020-07-01\", \"2020-07-31\")\n",
    "ds_nicam = (\n",
    "    experiment(zoom=8, time=\"PT6H\", chunks=\"auto\")\n",
    "    .to_dask()\n",
    "    .sel(time=time_slice)\n",
    ")\n",
    "\n",
    "ds_nicam = ds_nicam.assign_coords(\n",
    "    lat=((\"cell\",), ds_icon.lat.values, {\"units\": \"degree_north\"}),\n",
    "    lon=((\"cell\",), ds_icon.lon.values, {\"units\": \"degree_east\"}),\n",
    ")"
   ]
  },
  {
   "cell_type": "code",
   "execution_count": 8,
   "id": "60c7acec",
   "metadata": {},
   "outputs": [
    {
     "name": "stdout",
     "output_type": "stream",
     "text": [
      "CPU times: user 94.6 ms, sys: 2.21 ms, total: 96.9 ms\n",
      "Wall time: 1.55 s\n"
     ]
    }
   ],
   "source": [
    "%%time\n",
    "### NICAM\n",
    "exp_name = \"nicam_gl11\"\n",
    "experiment = cat[exp_name]\n",
    "time_slice = slice(\"2020-07-01\", \"2020-07-31\")\n",
    "ds_nicam2 = (\n",
    "    experiment(zoom=8, time=\"PT3H\", chunks=\"auto\")\n",
    "    .to_dask()\n",
    "    .sel(time=time_slice)\n",
    ")\n",
    "\n",
    "ds_nicam2 = ds_nicam2.assign_coords(\n",
    "    lat=((\"cell\",), ds_icon.lat.values, {\"units\": \"degree_north\"}),\n",
    "    lon=((\"cell\",), ds_icon.lon.values, {\"units\": \"degree_east\"}),\n",
    ")"
   ]
  },
  {
   "cell_type": "code",
   "execution_count": 9,
   "id": "d0c99d35",
   "metadata": {},
   "outputs": [
    {
     "name": "stdout",
     "output_type": "stream",
     "text": [
      "CPU times: user 126 ms, sys: 10.1 ms, total: 136 ms\n",
      "Wall time: 940 ms\n"
     ]
    }
   ],
   "source": [
    "%%time\n",
    "### UM\n",
    "exp_name = \"um_glm_n2560_RAL3p3\"\n",
    "experiment = cat[exp_name]\n",
    "time_slice = slice(\"2020-07-01\", \"2020-07-31\")\n",
    "ds_um = (\n",
    "    experiment(zoom=8, time=\"PT3H\", chunks=\"auto\")\n",
    "    .to_dask()\n",
    "    .sel(time=time_slice)\n",
    ")\n",
    "\n",
    "ds_um = ds_um.assign_coords(\n",
    "    lat=((\"cell\",), ds_icon.lat.values, {\"units\": \"degree_north\"}),\n",
    "    lon=((\"cell\",), ds_icon.lon.values, {\"units\": \"degree_east\"}),\n",
    ")"
   ]
  },
  {
   "cell_type": "code",
   "execution_count": 10,
   "id": "4b895d99",
   "metadata": {},
   "outputs": [
    {
     "name": "stdout",
     "output_type": "stream",
     "text": [
      "CPU times: user 97.2 ms, sys: 4.03 ms, total: 101 ms\n",
      "Wall time: 583 ms\n"
     ]
    }
   ],
   "source": [
    "%%time\n",
    "### UM\n",
    "exp_name = \"um_glm_n2560_RAL3p3\"\n",
    "experiment = cat[exp_name]\n",
    "time_slice = slice(\"2020-07-01\", \"2020-07-31\")\n",
    "ds_um2 = (\n",
    "    experiment(zoom=8, time=\"PT1H\", chunks=\"auto\")\n",
    "    .to_dask()\n",
    "    .sel(time=time_slice)\n",
    ")\n",
    "\n",
    "ds_um2 = ds_um2.assign_coords(\n",
    "    lat=((\"cell\",), ds_icon.lat.values, {\"units\": \"degree_north\"}),\n",
    "    lon=((\"cell\",), ds_icon.lon.values, {\"units\": \"degree_east\"}),\n",
    ")"
   ]
  },
  {
   "cell_type": "markdown",
   "id": "dae42e22",
   "metadata": {},
   "source": [
    "## Calculate $h$, $P$, $\\vec{U}_\\mathrm{10m}$, $Q_\\mathrm{surf}$"
   ]
  },
  {
   "cell_type": "markdown",
   "id": "18416dd0",
   "metadata": {},
   "source": [
    "### ICON"
   ]
  },
  {
   "cell_type": "code",
   "execution_count": 11,
   "id": "6abff671",
   "metadata": {},
   "outputs": [
    {
     "name": "stdout",
     "output_type": "stream",
     "text": [
      "CPU times: user 3.98 s, sys: 2.84 s, total: 6.82 s\n",
      "Wall time: 5 s\n"
     ]
    }
   ],
   "source": [
    "%%time\n",
    "mse_icon = calc_mse(ds_icon.sel(\n",
    "    pressure=slice(92500,100000))).compute()\n",
    "p = ds_icon.pr.compute()\n",
    "sfcwind_icon = calc_sfcwind(ds_icon).compute().resample(time='1d').mean()\n",
    "qsurf_icon = net_fluxes(ds_icon).compute().resample(time='1d').mean()"
   ]
  },
  {
   "cell_type": "markdown",
   "id": "97c46bf5",
   "metadata": {},
   "source": [
    "### UM"
   ]
  },
  {
   "cell_type": "code",
   "execution_count": 12,
   "id": "0d1b7b1c",
   "metadata": {},
   "outputs": [
    {
     "name": "stdout",
     "output_type": "stream",
     "text": [
      "CPU times: user 1min 15s, sys: 34.5 s, total: 1min 50s\n",
      "Wall time: 1min 21s\n"
     ]
    }
   ],
   "source": [
    "%%time\n",
    "mse_um = calc_mse(ds_um.sel(\n",
    "    pressure=slice(925,1000))).compute().resample(time='1d').mean()\n",
    "p_um = ds_um2.pr.compute().resample(time='1d').mean()\n",
    "sfcwind_um = calc_sfcwind(ds_um2).compute().resample(time='1d').mean()\n",
    "qsurf_um = net_fluxes(ds_um2).compute().resample(time='1d').mean()"
   ]
  },
  {
   "cell_type": "markdown",
   "id": "cca9b780",
   "metadata": {},
   "source": [
    "### NICAM"
   ]
  },
  {
   "cell_type": "code",
   "execution_count": 13,
   "id": "67c03084",
   "metadata": {},
   "outputs": [
    {
     "name": "stdout",
     "output_type": "stream",
     "text": [
      "CPU times: user 1min 12s, sys: 21 s, total: 1min 33s\n",
      "Wall time: 1min 24s\n"
     ]
    }
   ],
   "source": [
    "%%time\n",
    "mse_nicam = calc_mse(ds_nicam.sel(\n",
    "    lev=slice(1000,925))).compute().resample(time='1d').mean()\n",
    "p_nicam = ds_nicam2.pr.compute().resample(time='1d').mean()\n",
    "sfcwind_nicam = calc_sfcwind(ds_nicam2).compute().resample(time='1d').mean()\n",
    "qsurf_nicam = net_fluxes(ds_nicam2).compute().resample(time='1d').mean()"
   ]
  },
  {
   "cell_type": "markdown",
   "id": "6f10d4d9",
   "metadata": {},
   "source": [
    "## bin $Q_\\mathrm{surf}$ by near surface wind speed"
   ]
  },
  {
   "cell_type": "markdown",
   "id": "2bf32179",
   "metadata": {},
   "source": [
    "### Western Pacific"
   ]
  },
  {
   "cell_type": "code",
   "execution_count": 15,
   "id": "42d5771c",
   "metadata": {},
   "outputs": [],
   "source": [
    "bin_qsurf_wpacific_nicam = qsurf_nicam.where(\n",
    "    wpacific(ds_nicam).compute() & ocean(ds_icon).compute(),drop=True).groupby_bins(\n",
    "    sfcwind_nicam.where(wpacific(ds_nicam).compute() & ocean(ds_icon).compute(),drop=True),\n",
    "    bins=np.arange(0,14,0.5)).mean()"
   ]
  },
  {
   "cell_type": "code",
   "execution_count": 16,
   "id": "4d1f4dc3",
   "metadata": {},
   "outputs": [],
   "source": [
    "bin_qsurf_wpacific_icon = qsurf_icon.where(\n",
    "    wpacific(ds_icon).compute() & ocean(ds_icon).compute(),drop=True).groupby_bins(\n",
    "    sfcwind_icon.where(wpacific(ds_icon).compute() & ocean(ds_icon).compute(),drop=True),\n",
    "    bins=np.arange(0,14,0.5)).mean()"
   ]
  },
  {
   "cell_type": "code",
   "execution_count": 17,
   "id": "6072b984",
   "metadata": {},
   "outputs": [],
   "source": [
    "bin_qsurf_wpacific_um = qsurf_um.where(\n",
    "    wpacific(ds_um).compute() & ocean(ds_icon).compute(),drop=True).groupby_bins(\n",
    "    sfcwind_um.where(wpacific(ds_um).compute() & ocean(ds_icon).compute(),drop=True),\n",
    "    bins=np.arange(0,14,0.5)).mean()"
   ]
  },
  {
   "cell_type": "markdown",
   "id": "c59ef270",
   "metadata": {},
   "source": [
    "### Eastern Pacific"
   ]
  },
  {
   "cell_type": "code",
   "execution_count": 18,
   "id": "766a99dc",
   "metadata": {},
   "outputs": [],
   "source": [
    "bin_qsurf_epacific_nicam = qsurf_nicam.where(\n",
    "    epacific(ds_nicam).compute() & ocean(ds_icon).compute(),drop=True).groupby_bins(\n",
    "    sfcwind_nicam.where(epacific(ds_nicam).compute() & ocean(ds_icon).compute(),drop=True),\n",
    "    bins=np.arange(0,14,0.5)).mean()"
   ]
  },
  {
   "cell_type": "code",
   "execution_count": 19,
   "id": "942e4367",
   "metadata": {},
   "outputs": [],
   "source": [
    "bin_qsurf_epacific_icon = qsurf_icon.where(\n",
    "    epacific(ds_icon).compute() & ocean(ds_icon).compute(),drop=True).groupby_bins(\n",
    "    sfcwind_icon.where(epacific(ds_icon).compute() & ocean(ds_icon).compute(),drop=True),\n",
    "    bins=np.arange(0,14,0.5)).mean()"
   ]
  },
  {
   "cell_type": "code",
   "execution_count": 20,
   "id": "5a4726d8",
   "metadata": {},
   "outputs": [],
   "source": [
    "bin_qsurf_epacific_um = qsurf_um.where(\n",
    "    epacific(ds_um).compute() & ocean(ds_icon).compute(),drop=True).groupby_bins(\n",
    "    sfcwind_um.where(epacific(ds_um).compute() & ocean(ds_icon).compute(),drop=True),\n",
    "    bins=np.arange(0,14,0.5)).mean()"
   ]
  },
  {
   "cell_type": "markdown",
   "id": "e8d6d538",
   "metadata": {},
   "source": [
    "## Plotting"
   ]
  },
  {
   "cell_type": "markdown",
   "id": "4a4af154",
   "metadata": {},
   "source": [
    "### $Q_\\mathrm{surf}$ and near surface wind speed ($\\vec{U}_\\mathrm{10m}$)"
   ]
  },
  {
   "cell_type": "code",
   "execution_count": 19,
   "id": "dc499fbf",
   "metadata": {},
   "outputs": [
    {
     "data": {
      "text/plain": [
       "<matplotlib.legend.Legend at 0x7fff350dfa30>"
      ]
     },
     "execution_count": 19,
     "metadata": {},
     "output_type": "execute_result"
    },
    {
     "data": {
      "image/png": "[encoded data removed]",
      "text/plain": [
       "<Figure size 393.701x236.22 with 2 Axes>"
      ]
     },
     "metadata": {},
     "output_type": "display_data"
    }
   ],
   "source": [
    "sns.set_context(\"paper\")\n",
    "fig = plt.figure(figsize=(10/2.54,6/2.54), facecolor=\"white\")\n",
    "ax = fig.add_subplot(121)\n",
    "\n",
    "bin_qsurf_wpacific_nicam.plot(color='g',label='NICAM')\n",
    "bin_qsurf_wpacific_icon.plot(color='b',linestyle='-',label='ICON')\n",
    "bin_qsurf_wpacific_um.plot(color='orange',label='UM')\n",
    "ax.set_ylim([0,400])\n",
    "ax.set_xlim([0,12])\n",
    "sns.despine(offset=10)\n",
    "ax.set_xlabel(r'$\\vec{U}_\\mathrm{10m}$ \\ m s$^{-1}$')\n",
    "ax.set_ylabel(r'$Q_\\mathrm{surf}$ \\ W m$^{-2}$')\n",
    "ax.set_title('W. Pacific')\n",
    "\n",
    "ax = fig.add_subplot(122)\n",
    "\n",
    "bin_qsurf_epacific_nicam.plot(color='g',label='NICAM')\n",
    "bin_qsurf_epacific_icon.plot(color='b',linestyle='-',label='ICON')\n",
    "bin_qsurf_epacific_um.plot(color='orange',label='UM')\n",
    "ax.set_ylim([0,400])\n",
    "ax.set_xlim([0,12])\n",
    "sns.despine(offset=10)\n",
    "ax.set_yticks([])\n",
    "ax.spines['left'].set_visible(False)\n",
    "ax.set_xlabel(r'$\\vec{U}_\\mathrm{10m}$ \\ m s$^{-1}$')\n",
    "ax.set_title('E. Pacific')\n",
    "plt.legend()"
   ]
  },
  {
   "cell_type": "markdown",
   "id": "adbece3f",
   "metadata": {},
   "source": [
    "### $P$ and boundary layer moist static energy ($h_\\mathrm{bl}$)"
   ]
  },
  {
   "cell_type": "code",
   "execution_count": 24,
   "id": "a312e7d7",
   "metadata": {},
   "outputs": [
    {
     "data": {
      "image/png": "[encoded data removed]",
      "text/plain": [
       "<Figure size 551.181x393.701 with 6 Axes>"
      ]
     },
     "metadata": {},
     "output_type": "display_data"
    }
   ],
   "source": [
    "fig1 = plt.figure(figsize=(14/2.54,10/2.54), facecolor=\"white\")\n",
    "ax1 = fig1.add_subplot(231)\n",
    "plt.scatter((mse_icon.mean('pressure')/cp).where(wpacific(ds_icon).compute() & ocean(ds_icon).compute(),drop=True),\n",
    "            p.where(wpacific(ds_icon).compute() & ocean(ds_icon).compute(),drop=True)*24*3600,\n",
    "s=0.01, c='b',alpha=0.3)\n",
    "\n",
    "ax1.set_ylim([0,200])\n",
    "ax1.set_xlim([330,353])\n",
    "sns.despine(offset=10)\n",
    "ax1.set_xticks([])\n",
    "ax1.set_title('ICON')\n",
    "ax1.set_ylabel(r'$P$ / mm d$^{-1}$')\n",
    "\n",
    "ax2 = fig1.add_subplot(232)\n",
    "plt.scatter((mse_nicam.mean('lev')/cp).where(wpacific(ds_nicam).compute() & ocean(ds_icon).compute(),drop=True),\n",
    "            p_nicam.where(wpacific(ds_nicam).compute() & ocean(ds_icon).compute(),drop=True)*24*3600,\n",
    "s=0.01, c='g',alpha=0.3);\n",
    "ax2.set_xlim([330,353])\n",
    "ax2.set_ylim([0,200])\n",
    "sns.despine(offset=10)\n",
    "ax2.set_xticks([])\n",
    "ax2.set_yticks([])\n",
    "ax2.set_title('NICAM')\n",
    "\n",
    "ax3 = fig1.add_subplot(233)\n",
    "plt.scatter((mse_um.mean('pressure')/cp).where(wpacific(ds_um).compute() & ocean(ds_icon).compute(),drop=True),\n",
    "            p_um.where(wpacific(ds_um).compute() & ocean(ds_icon).compute(),drop=True)*24*3600,\n",
    "s=0.01, c='orange',alpha=0.3);\n",
    "ax3.set_xlim([330,353])\n",
    "ax3.set_ylim([0,200])\n",
    "sns.despine(offset=10)\n",
    "ax3.set_xticks([])\n",
    "ax3.set_yticks([])\n",
    "plt.text(353,50,'W. Pacific',rotation=-90)\n",
    "ax3.set_title('UM')\n",
    "\n",
    "\n",
    "ax4 = fig1.add_subplot(234)\n",
    "plt.scatter((mse_icon.mean('pressure')/cp).where(epacific(ds_icon).compute() & ocean(ds_icon).compute(),drop=True),\n",
    "            p.where(epacific(ds_icon).compute() & ocean(ds_icon).compute(),drop=True)*24*3600,\n",
    "s=0.01, c='b',alpha=0.3);\n",
    "ax4.set_ylim([0,200])\n",
    "ax4.set_xlim([330,353])\n",
    "sns.despine(offset=10)\n",
    "ax4.set_ylabel(r'$P$ / mm d$^{-1}$')\n",
    "ax4.set_xlabel(r'$h_\\mathrm{bl}$ / K')\n",
    "\n",
    "ax5 = fig1.add_subplot(235)\n",
    "plt.scatter((mse_nicam.mean('lev')/cp).where(epacific(ds_nicam).compute() & ocean(ds_icon).compute(),drop=True),\n",
    "            p_nicam.where(epacific(ds_nicam).compute() & ocean(ds_icon).compute(),drop=True)*24*3600,\n",
    "s=0.01, c='g',alpha=0.3);\n",
    "ax5.set_ylim([0,200])\n",
    "ax5.set_xlim([330,353])\n",
    "sns.despine(offset=10)\n",
    "ax5.set_yticks([])\n",
    "ax5.set_xlabel(r'$h_\\mathrm{bl}$ / K')\n",
    "\n",
    "ax6 = fig1.add_subplot(236)\n",
    "plt.scatter((mse_um.mean('pressure')/cp).where(epacific(ds_um).compute() & ocean(ds_icon).compute(),drop=True),\n",
    "            p_um.where(epacific(ds_um).compute() & ocean(ds_icon).compute(),drop=True)*24*3600,\n",
    "s=0.01, c='orange',alpha=0.3);\n",
    "ax6.set_ylim([0,200])\n",
    "ax6.set_xlim([330,353])\n",
    "sns.despine(offset=10)\n",
    "ax6.set_yticks([])\n",
    "ax6.set_xlabel(r'$h_\\mathrm{bl}$ / K')\n",
    "\n",
    "\n",
    "plt.text(353,50,'E. Pacific',rotation=-90)\n",
    "ax1.spines['bottom'].set_visible(False)\n",
    "ax2.spines[['bottom','left']].set_visible(False)\n",
    "ax3.spines[['bottom','left']].set_visible(False)\n",
    "ax5.spines[['left']].set_visible(False)\n",
    "ax6.spines[['left']].set_visible(False)"
   ]
  },
  {
   "cell_type": "code",
   "execution_count": null,
   "id": "d54d69f2",
   "metadata": {},
   "outputs": [],
   "source": []
  },
  {
   "cell_type": "code",
   "execution_count": null,
   "id": "660f45ce",
   "metadata": {},
   "outputs": [],
   "source": []
  }
 ],
 "metadata": {
  "kernelspec": {
   "display_name": "0 Python 3 (based on the module python3/unstable",
   "language": "python",
   "name": "python3_unstable"
  },
  "language_info": {
   "codemirror_mode": {
    "name": "ipython",
    "version": 3
   },
   "file_extension": ".py",
   "mimetype": "text/x-python",
   "name": "python",
   "nbconvert_exporter": "python",
   "pygments_lexer": "ipython3",
   "version": "3.10.10"
  }
 },
 "nbformat": 4,
 "nbformat_minor": 5
}
