{
 "cells": [
  {
   "cell_type": "code",
   "execution_count": null,
   "id": "e7d37117-f98e-43b4-8d4a-6096be72f587",
   "metadata": {},
   "outputs": [],
   "source": [
    "import huracanpy\n",
    "import numpy as np\n",
    "import pandas as pd\n",
    "import xarray as xr\n",
    "import matplotlib.pyplot as plt\n",
    "import seaborn as sns\n",
    "import cartopy.crs as ccrs\n",
    "import cartopy.feature as cfeature\n",
    "from shapely.geometry import Polygon, MultiPolygon, Point\n",
    "import geopandas as gpd\n",
    "from glob import glob"
   ]
  },
  {
   "cell_type": "code",
   "execution_count": null,
   "id": "e0c8a5c3-acdb-4540-9de6-a92bc0e7ab4f",
   "metadata": {},
   "outputs": [],
   "source": [
    "ls ../TC_tracks/"
   ]
  },
  {
   "cell_type": "code",
   "execution_count": null,
   "id": "014c3615-d597-4ffc-84b6-a15aead77dac",
   "metadata": {},
   "outputs": [],
   "source": [
    "# - LOAD TRACKS\n",
    "tracks={}\n",
    "\n",
    "# UM\n",
    "um_files = glob(\"../TC_tracks/um_*\")\n",
    "for f in um_files:\n",
    "    name = f.split(\"/\")[-1].split(\".\")[0]\n",
    "    tracks[name] = huracanpy.load(f)\n",
    "    tracks[name] = tracks[name].rename({\"sfcwind_max\":\"wind\", \"psl_min\":\"slp\"})\n",
    "\n",
    "# IFS files\n",
    "ifs_files = glob(\"../TC_tracks/ifs_*\")\n",
    "for f in ifs_files:\n",
    "    name = f.split(\"/\")[-1].split(\".\")[0]\n",
    "    tracks[name] = huracanpy.load(f).rename({\"psl\":\"slp\"})"
   ]
  },
  {
   "cell_type": "markdown",
   "id": "6d881e2d-a2b1-44ce-9525-d2ee411cfe53",
   "metadata": {},
   "source": [
    "## Plot most intense track"
   ]
  },
  {
   "cell_type": "code",
   "execution_count": null,
   "id": "558c551b-6cf2-4e7a-bc60-e9d698592ad1",
   "metadata": {},
   "outputs": [],
   "source": [
    "# TODO: Expand the box and center on storm\n",
    "# TODO: Make annotations smarter\n",
    "# TODO: Make it possible to add places\n",
    "\n",
    "def plot_track(track, name, season, \n",
    "               xytext = (-15,15), buffer = 2, freq_annot = 1):\n",
    "    \n",
    "    cmap = \"Spectral_r\" #cm.buda\n",
    "\n",
    "    # Coordinates from track\n",
    "    lon = np.where(track.lon < 0, track.lon + 360, track.lon)\n",
    "    lon_min, lon_max = lon.min(), lon.max()\n",
    "    lat_min, lat_max = track.lat.min().values, track.lat.max().values\n",
    "    lon_mid, lat_mid = (lon_min+lon_max)/2, (lat_min+lat_max)/2\n",
    "    \n",
    "    # Map setup\n",
    "    ## Matplotlib\n",
    "    fig = plt.figure(figsize = [8,8])\n",
    "    ax = plt.axes(projection = ccrs.NearsidePerspective(central_longitude=lon_mid, central_latitude=lat_mid,))\n",
    "    plt.style.use('dark_background')\n",
    "    plt.rcParams[\"font.family\"] = \"monospace\"\n",
    "    ax.set_title(name, fontweight = \"bold\", loc = \"left\", family = \"monospace\")\n",
    "    ## Cartopy\n",
    "    ax.coastlines()\n",
    "    ax.add_feature(cfeature.BORDERS)\n",
    "    ax.add_feature(cfeature.OCEAN, color = \"w\", alpha = 0.5)\n",
    "    ax.add_feature(cfeature.LAND, color = \"w\", alpha = 0.9)\n",
    "    gl = ax.gridlines(crs=ccrs.PlateCarree(), draw_labels=True, color = 'w', alpha = 0.6,)\n",
    "    gl.top_labels = False\n",
    "    gl.right_labels = False\n",
    "    \n",
    "    # Plot track\n",
    "    ## Line and colorbar\n",
    "    l = huracanpy.plot.fancyline(track.lon, track.lat, track.wind, cmap = cmap)\n",
    "    cbar = plt.colorbar(l, shrink = 0.33, ax = ax, location = \"right\",)\n",
    "    cbar.set_label(label='Maximum wind speed / m/s',family = \"monospace\")\n",
    "    for t in np.array([35, 64, 83, 96, 113, 137])/1.95: # SSHS\n",
    "        cbar.ax.plot([0,1], [t, t], color = 'k') # Add marker for SSHS thresholds\n",
    "    ## Scatter and legend\n",
    "    s = sns.scatterplot(data = track, x = \"lon\", y = \"lat\", hue = \"wind\", palette = cmap,\n",
    "                    transform = ccrs.PlateCarree(), zorder = 10, legend = False, edgecolor = 'k',)\n",
    "    #h, l = s.get_legend_handles_labels()\n",
    "    #for text in l.get_texts(): text.set_color('k'); text.set_family(\"monospace\")\n",
    "    ax.set_extent([lon_min - buffer/2, lon_max + buffer/2, lat_min -2 - buffer*2, lat_max +buffer*2])\n",
    "    plt.tight_layout()\n",
    "\n",
    "    plt.savefig(\"fancy_figs/most_intense_TC_\"+name+\".png\")\n",
    "    return ax"
   ]
  },
  {
   "cell_type": "code",
   "execution_count": null,
   "id": "9f1bd2e5-c932-42b2-8843-316ebfabc0e4",
   "metadata": {
    "scrolled": true
   },
   "outputs": [],
   "source": [
    "for n in tracks:\n",
    "    t=tracks[n]\n",
    "    most_intense_id=t.sortby(\"wind\").isel(record = -1).track_id\n",
    "    most_intense_track = t.hrcn.sel_id(most_intense_id)\n",
    "    plot_track(most_intense_track, n, 2020)"
   ]
  },
  {
   "cell_type": "markdown",
   "id": "a8fe2774-60cc-4fff-b1f7-aac6d872961a",
   "metadata": {},
   "source": [
    "## Plot most intense track's structure"
   ]
  },
  {
   "cell_type": "code",
   "execution_count": null,
   "id": "43aa4a62-f3c4-41fe-81dc-04005875f803",
   "metadata": {},
   "outputs": [],
   "source": [
    "n=\"um_glm_n1280_GAL9\"\n",
    "tracks[n][\"record\"] = tracks[n].record\n",
    "t=tracks[n]\n",
    "most_intense_id=t.sortby(\"wind\").isel(record = -1).track_id\n",
    "most_intense_track = t.hrcn.sel_id(most_intense_id)"
   ]
  },
  {
   "cell_type": "code",
   "execution_count": null,
   "id": "e080884b-0fbb-43c7-aea8-7b6fda8aa82a",
   "metadata": {},
   "outputs": [],
   "source": [
    "most_intense_track.record"
   ]
  },
  {
   "cell_type": "code",
   "execution_count": null,
   "id": "ce6fd277-10bd-4482-a3e9-937839accbf1",
   "metadata": {
    "scrolled": true
   },
   "outputs": [],
   "source": [
    "# Precip\n",
    "varname = \"pr\"\n",
    "var = xr.open_dataset(\"../snapshots/\"+varname+\"/\"+n+\"_\"+varname+\".nc\", decode_times = False)[\"snap_\"+varname]\n",
    "var.sel(snapshot = most_intense_track.record).plot(col = \"record\", col_wrap = 5, cmap = \"YlGnBu\", vmax = 12e-3)"
   ]
  },
  {
   "cell_type": "code",
   "execution_count": null,
   "id": "4ef8e6c3-40ca-4b38-b070-6713273fa07b",
   "metadata": {},
   "outputs": [],
   "source": [
    "# wind\n",
    "varname = \"uas\"\n",
    "uas = xr.open_dataset(\"../snapshots/\"+varname+\"/\"+n+\"_\"+varname+\".nc\", decode_times = False)[\"snap_\"+varname]\n",
    "varname = \"vas\"\n",
    "vas = xr.open_dataset(\"../snapshots/\"+varname+\"/\"+n+\"_\"+varname+\".nc\", decode_times = False)[\"snap_\"+varname]\n",
    "#var.sel(snapshot = most_intense_track.record).plot(col = \"record\", col_wrap = 5, cmap = \"YlGnBu\", vmax = 12e-3)"
   ]
  },
  {
   "cell_type": "code",
   "execution_count": null,
   "id": "3941474d-831b-4136-87b1-212d416c6020",
   "metadata": {
    "scrolled": true
   },
   "outputs": [],
   "source": [
    "ws = np.sqrt(uas**2 + vas**2)\n",
    "ws.sel(snapshot = most_intense_track.record[20:]).plot(col = \"record\", col_wrap = 5, cmap = \"Spectral_r\", vmax = 50)"
   ]
  },
  {
   "cell_type": "code",
   "execution_count": null,
   "id": "745f373e-0857-4297-a6e7-74c0f5a856b4",
   "metadata": {
    "scrolled": true
   },
   "outputs": [],
   "source": [
    "snaps = ws.sel(snapshot = most_intense_track.record[20:])\n",
    "for i in range(len(snaps.record)):\n",
    "    plt.figure()\n",
    "    snaps.isel(record = i).plot(vmin = 0, vmax = 50, cmap = \"Spectral_r\")\n",
    "    plt.title(\"Maximum wind speed in m/s\")\n",
    "    plt.savefig(\"snapshots/wind_speed/\"+n+\"_\"+str(i)+\".png\")"
   ]
  },
  {
   "cell_type": "code",
   "execution_count": null,
   "id": "b3cb0f43-4dfc-411b-bd7d-dd02e4e4f37d",
   "metadata": {},
   "outputs": [],
   "source": []
  }
 ],
 "metadata": {
  "kernelspec": {
   "display_name": "hackathon",
   "language": "python",
   "name": "hackathon"
  },
  "language_info": {
   "codemirror_mode": {
    "name": "ipython",
    "version": 3
   },
   "file_extension": ".py",
   "mimetype": "text/x-python",
   "name": "python",
   "nbconvert_exporter": "python",
   "pygments_lexer": "ipython3",
   "version": "3.12.10"
  }
 },
 "nbformat": 4,
 "nbformat_minor": 5
}
