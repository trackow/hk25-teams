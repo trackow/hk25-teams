{
 "cells": [
  {
   "cell_type": "code",
   "execution_count": null,
   "id": "c8411ff2-a427-4df2-8040-821365aeec50",
   "metadata": {},
   "outputs": [],
   "source": [
    "from cartopy.crs import EqualEarth, Geodetic\n",
    "import huracanpy\n",
    "import matplotlib.pyplot as plt\n",
    "import numpy as np\n",
    "from tqdm import tqdm"
   ]
  },
  {
   "cell_type": "code",
   "execution_count": null,
   "id": "a0b1e3d7-5ab2-4113-9bd5-198c3728dd00",
   "metadata": {},
   "outputs": [],
   "source": [
    "tracks = huracanpy.load(\"../TC_tracks/extra/um_glm_n1280_GAL9_Stella.csv\", skipinitialspace=True)\n",
    "tracks"
   ]
  },
  {
   "cell_type": "code",
   "execution_count": null,
   "id": "19a70a12-5038-4270-bb03-c3262c2ffd57",
   "metadata": {},
   "outputs": [],
   "source": [
    "tracks.hrcn.plot_tracks(intensity_var_name = \"wind\",)"
   ]
  },
  {
   "cell_type": "code",
   "execution_count": null,
   "id": "b42820e6-5462-42b4-8d57-15839bc1d27c",
   "metadata": {},
   "outputs": [],
   "source": [
    "# Plot individual tracks with NaNs\n",
    "track_ids = np.unique(tracks.track_id[np.isnan(tracks.wind)])\n",
    "tracks_with_nans = tracks.hrcn.sel_id(track_ids)\n",
    "\n",
    "ax = plt.axes(projection=EqualEarth())\n",
    "for track_id, track in tracks_with_nans.groupby(\"track_id\"):\n",
    "    im = huracanpy.plot.fancyline(track.lon, track.lat, track.wind, vmin=0, vmax=50, linewidths=3)\n",
    "    nan_points = track.isel(record=np.where(np.isnan(track.wind))[0])\n",
    "    plt.plot(nan_points.lon, nan_points.lat, \"kx\", transform=Geodetic())\n",
    "\n",
    "ax.set_extent([-180, 180, -90, 90])\n",
    "ax.coastlines()\n",
    "ax.gridlines(draw_labels=[\"left\", \"bottom\"])\n",
    "plt.colorbar(im, orientation=\"horizontal\")"
   ]
  }
 ],
 "metadata": {
  "kernelspec": {
   "display_name": "wcrp_hackathon",
   "language": "python",
   "name": "wcrp_hackathon"
  },
  "language_info": {
   "codemirror_mode": {
    "name": "ipython",
    "version": 3
   },
   "file_extension": ".py",
   "mimetype": "text/x-python",
   "name": "python",
   "nbconvert_exporter": "python",
   "pygments_lexer": "ipython3",
   "version": "3.12.10"
  }
 },
 "nbformat": 4,
 "nbformat_minor": 5
}
