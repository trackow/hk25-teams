{
 "cells": [
  {
   "cell_type": "code",
   "execution_count": null,
   "id": "408e948d-8005-484d-ab4f-4da5b45407de",
   "metadata": {},
   "outputs": [],
   "source": [
    "import huracanpy\n",
    "import numpy as np\n",
    "import pandas as pd\n",
    "import xarray as xr\n",
    "import matplotlib.pyplot as plt\n",
    "import seaborn as sns\n",
    "import cartopy.crs as ccrs\n",
    "import cartopy.feature as cfeature\n",
    "from shapely.geometry import Polygon, MultiPolygon, Point\n",
    "import geopandas as gpd\n",
    "from glob import glob"
   ]
  },
  {
   "cell_type": "code",
   "execution_count": null,
   "id": "ed4f7e25-3aba-41ba-a74f-bf75e0253cf8",
   "metadata": {},
   "outputs": [],
   "source": [
    "ls ../TC_tracks/2D"
   ]
  },
  {
   "cell_type": "code",
   "execution_count": null,
   "id": "d3c8127b-ef89-4638-97cb-7362eb08a99b",
   "metadata": {},
   "outputs": [],
   "source": [
    "# - LOAD TRACKS\n",
    "tracks={}\n",
    "\n",
    "# UM\n",
    "um_files = glob(\"../TC_tracks/um_*\")\n",
    "for f in um_files:\n",
    "    name = f.split(\"/\")[-1].split(\".\")[0]\n",
    "    tracks[name] = huracanpy.load(f)\n",
    "    tracks[name] = tracks[name].rename({\"sfcwind_max\":\"wind\", \"psl_min\":\"slp\"})\n",
    "\n",
    "# IFS files\n",
    "ifs_files = glob(\"../TC_tracks/ifs_*\")\n",
    "for f in ifs_files:\n",
    "    name = f.split(\"/\")[-1].split(\".\")[0]\n",
    "    tracks[name] = huracanpy.load(f).rename({\"psl\":\"slp\"})\n",
    "\n",
    "# CAS-ESM\n",
    "cas_files = glob(\"../TC_tracks/casesm2_*\")\n",
    "for f in cas_files:\n",
    "    name = f.split(\"/\")[-1].split(\".\")[0]\n",
    "    tracks[name] = huracanpy.load(f)\n",
    "\n",
    "# ICO\n",
    "icon_files = glob(\"../TC_tracks/2D/icon_*\")\n",
    "for f in icon_files:\n",
    "    name = f.split(\"/\")[-1].split(\".\")[0]\n",
    "    tracks[name] = huracanpy.load(f).rename({\"psl\":\"slp\"})\n",
    "\n",
    "# SCREAM\n",
    "tracks[\"scream_ne120\"] = huracanpy.load(\"../TC_tracks/scream_ne120.txt\", source = \"tempestextremes\", tempest_extremes_unstructured=True)\n",
    "tracks[\"scream_ne120\"] = tracks[\"scream_ne120\"].rename({\"feature_0\":\"slp\", \"feature_1\":\"wind\"})"
   ]
  },
  {
   "cell_type": "code",
   "execution_count": null,
   "id": "a95be906-7268-4aaf-b053-ba8c0663ec87",
   "metadata": {},
   "outputs": [],
   "source": [
    "for n in tracks:\n",
    "    tracks[n] = tracks[n].where((tracks[n].time >= np.datetime64(\"2020-03-01\")) & (tracks[n].time <= np.datetime64(\"2021-02-28\")), drop = True)"
   ]
  },
  {
   "cell_type": "code",
   "execution_count": null,
   "id": "41ad0359-24c3-4fad-a3c4-9ff37768c2f8",
   "metadata": {},
   "outputs": [],
   "source": [
    "ibtracs_full = huracanpy.load(source = \"ibtracs\")\n",
    "ibtracs_period = ibtracs_full.where((ibtracs_full.time >= np.datetime64(\"2020-03-01\")) & (ibtracs_full.time <= np.datetime64(\"2021-02-28\")), drop = True)"
   ]
  },
  {
   "cell_type": "code",
   "execution_count": null,
   "id": "0a7ea9cb-7242-4200-b575-522b02d16a05",
   "metadata": {},
   "outputs": [],
   "source": [
    "ibtracs_period[\"wind\"] /= 1.95"
   ]
  },
  {
   "cell_type": "code",
   "execution_count": null,
   "id": "a861629d-9726-4b63-b841-420e7a799e40",
   "metadata": {},
   "outputs": [],
   "source": [
    "#tracks[\"ibtracs_full\"] = ibtracs_full\n",
    "tracks[\"ibtracs_2020-21\"] = ibtracs_period"
   ]
  },
  {
   "cell_type": "markdown",
   "id": "d634a3e0-b5cc-4b5d-991c-b1a10c0a55ef",
   "metadata": {
    "scrolled": true
   },
   "source": [
    "# Statistics"
   ]
  },
  {
   "cell_type": "code",
   "execution_count": null,
   "id": "10426d54-a356-419e-a126-97fda6a46961",
   "metadata": {},
   "outputs": [],
   "source": [
    "NTC = {}\n",
    "for n in tracks:\n",
    "    t = tracks[n]\n",
    "    NTC[n] = t.track_id.hrcn.nunique()\n",
    "    print(n, t.track_id.hrcn.nunique())"
   ]
  },
  {
   "cell_type": "code",
   "execution_count": null,
   "id": "793e959a-1293-4a2c-a19e-fed6508a62ce",
   "metadata": {},
   "outputs": [],
   "source": [
    "plt.bar(NTC.keys(), NTC.values())\n",
    "plt.xticks(rotation=90)\n",
    "plt.yticks([50, 100, 150, 200, 250, 800, 1000])\n",
    "plt.grid()\n",
    "plt.ylabel(\"#Detected TCs\")"
   ]
  },
  {
   "cell_type": "code",
   "execution_count": null,
   "id": "0d3ddd01-99e0-4be8-a531-54b30a20db50",
   "metadata": {},
   "outputs": [],
   "source": [
    "TCD = {}\n",
    "for n in tracks:\n",
    "    t = tracks[n]\n",
    "    TCD[n] = t.hrcn.get_track_duration().sum() / 24"
   ]
  },
  {
   "cell_type": "code",
   "execution_count": null,
   "id": "73fbc14a-7fdf-42b0-8305-b5bf66c81e38",
   "metadata": {},
   "outputs": [],
   "source": [
    "plt.bar(TCD.keys(), TCD.values())\n",
    "plt.xticks(rotation=90)\n",
    "#plt.yticks([50, 100, 150, 200, 250, 800, 1000])\n",
    "plt.grid()\n",
    "plt.ylabel(\"TC days\")\n",
    "plt.ylim(0, 3000)"
   ]
  },
  {
   "cell_type": "code",
   "execution_count": null,
   "id": "0bd3956c-979c-4dee-a349-81b7388d6acb",
   "metadata": {},
   "outputs": [],
   "source": [
    "ACE = {}\n",
    "for n in tracks:\n",
    "    t = tracks[n]\n",
    "    t = t.hrcn.add_ace(wind_name=\"wind\", threshold = 0)\n",
    "    ACE[n] = t.ace.sum().mean()"
   ]
  },
  {
   "cell_type": "code",
   "execution_count": null,
   "id": "03d5f540-0f6e-48ce-8c37-1218cf58cd2e",
   "metadata": {},
   "outputs": [],
   "source": [
    "plt.bar(ACE.keys(), ACE.values())\n",
    "plt.xticks(rotation=90)\n",
    "#plt.yticks([50, 100, 150, 200, 250, 800, 1000])\n",
    "plt.grid()\n",
    "plt.ylabel(\"ACE\")\n",
    "plt.ylim(0, 3000)"
   ]
  },
  {
   "cell_type": "markdown",
   "id": "af52fc48-67ed-4bc2-902b-57fb05998634",
   "metadata": {},
   "source": [
    "## Dstribution in basins"
   ]
  },
  {
   "cell_type": "code",
   "execution_count": null,
   "id": "481b6cb6-eb66-4e24-b113-632723d5d236",
   "metadata": {},
   "outputs": [],
   "source": [
    "for n in tracks:\n",
    "    tracks[n] = tracks[n].hrcn.add_basin()\n",
    "    tracks[n] = tracks[n].where(tracks[n].basin != '', drop = True)"
   ]
  },
  {
   "cell_type": "code",
   "execution_count": null,
   "id": "4c9006cb-dfbb-4853-aa7a-d5038590678c",
   "metadata": {},
   "outputs": [],
   "source": [
    "Nbasins = pd.DataFrame(tracks[\"ibtracs_2020-21\"].to_dataframe().groupby(\"basin\").track_id.nunique().sort_values(ascending = False).rename(\"ibtracs\"))"
   ]
  },
  {
   "cell_type": "code",
   "execution_count": null,
   "id": "9f8c1f2a-80f2-4360-903b-e492269b557d",
   "metadata": {},
   "outputs": [],
   "source": [
    "for n in tracks:\n",
    "    Nbasins = Nbasins.join(tracks[n].to_dataframe().groupby(\"basin\").track_id.nunique().sort_values(ascending = False).rename(n))"
   ]
  },
  {
   "cell_type": "code",
   "execution_count": null,
   "id": "28673555-1687-4926-af13-43a70abdcb5b",
   "metadata": {},
   "outputs": [],
   "source": [
    "for n in tracks:\n",
    "    if n != 'ibtracs_2020-21':\n",
    "        plt.scatter(Nbasins.index, Nbasins[n], label = n)\n",
    "    if n == 'ibtracs_2020-21':\n",
    "        plt.scatter(Nbasins.index, Nbasins[n], label = n, color = 'k', marker = \"*\", s = 100)\n",
    "plt.ylim(0,75)\n",
    "plt.legend(ncol=2)"
   ]
  },
  {
   "cell_type": "code",
   "execution_count": null,
   "id": "d33140d9-4c8b-4d4e-803f-a51cd725f580",
   "metadata": {},
   "outputs": [],
   "source": [
    "tracks.keys()"
   ]
  },
  {
   "cell_type": "code",
   "execution_count": null,
   "id": "782b7895-d312-49df-96d5-e05cbfe40698",
   "metadata": {},
   "outputs": [],
   "source": [
    "tracks[\"casesm2_10km_cumulus\"].where(tracks[\"casesm2_10km_cumulus\"].basin == '', drop = True)"
   ]
  },
  {
   "cell_type": "markdown",
   "id": "b6d1f7dc-024f-432c-9bc9-9069de4a9dc0",
   "metadata": {},
   "source": [
    "## Intensity"
   ]
  },
  {
   "cell_type": "code",
   "execution_count": null,
   "id": "3a6dbe0b-4c56-4f76-88db-51a4a8878a91",
   "metadata": {},
   "outputs": [],
   "source": [
    "for n in tracks:\n",
    "    tracks[n] = tracks[n].hrcn.add_saffir_simpson_category()"
   ]
  },
  {
   "cell_type": "code",
   "execution_count": null,
   "id": "790e45da-9bca-48f4-8e77-73682d554e48",
   "metadata": {},
   "outputs": [],
   "source": [
    "Ncat = pd.DataFrame(tracks[\"ibtracs_2020-21\"].to_dataframe().groupby(\"saffir_simpson_category\").track_id.nunique().rename(\"ibtracs_2020-21\"))\n",
    "for n in tracks:\n",
    "    if n != \"ibtracs_2020-21\":\n",
    "        Ncat = Ncat.join(tracks[n].to_dataframe().groupby(\"saffir_simpson_category\").track_id.nunique().rename(n))"
   ]
  },
  {
   "cell_type": "code",
   "execution_count": null,
   "id": "436562cb-6b72-445d-ab5a-2a2072f98003",
   "metadata": {},
   "outputs": [],
   "source": [
    "Ncat.plot.bar(figsize = (15,4))\n",
    "plt.ylabel(\"#TC\")"
   ]
  },
  {
   "cell_type": "code",
   "execution_count": null,
   "id": "4e81b3ff-3fce-4747-933b-bf30ddc5c169",
   "metadata": {},
   "outputs": [],
   "source": [
    "Ncat.loc[[3,4,5]].plot.bar(figsize = (12,4))\n",
    "plt.ylabel(\"#TC\")"
   ]
  },
  {
   "cell_type": "code",
   "execution_count": null,
   "id": "a43eda4a-7bfa-40e7-a1ee-a71e5a938b6e",
   "metadata": {},
   "outputs": [],
   "source": [
    "# Compute times from extremum\n",
    "# Plot with seaborn\n",
    "fig, axs = plt.subplots(1, sharex=True, figsize = (8,8))\n",
    "for n in list(tracks.keys()):\n",
    "    data = tracks[n]\n",
    "    #data[\"time_from_slp_min\"] = data.hrcn.get_time_from_apex(\n",
    "    #    intensity_var_name=\"slp\", stat=\"min\"\n",
    "    #) / 1e9 / 3600 / 24\n",
    "    data[\"time_from_wind_max\"] = data.hrcn.get_time_from_apex(\n",
    "        intensity_var_name=\"wind\",\n",
    "    ) / 1e9 / 3600 / 24\n",
    "\n",
    "    \n",
    "    # SLP lifecycle\n",
    "    #sns.lineplot(data=data, x=\"time_from_slp_min\", y=\"slp\", ax=axs[0], label = n)\n",
    "    # Wind lifecycle\n",
    "    sns.lineplot(data=data, x=\"time_from_wind_max\", y=\"wind\", ax=axs, label = n)\n",
    "\n",
    "axs.legend(ncol = 2)\n",
    "axs.set_xlim(-10,10)"
   ]
  },
  {
   "cell_type": "code",
   "execution_count": null,
   "id": "cc0ecc64-d6d0-402b-a74f-0d1bdbb9b1c2",
   "metadata": {},
   "outputs": [],
   "source": []
  }
 ],
 "metadata": {
  "kernelspec": {
   "display_name": "hackathon",
   "language": "python",
   "name": "hackathon"
  },
  "language_info": {
   "codemirror_mode": {
    "name": "ipython",
    "version": 3
   },
   "file_extension": ".py",
   "mimetype": "text/x-python",
   "name": "python",
   "nbconvert_exporter": "python",
   "pygments_lexer": "ipython3",
   "version": "3.12.10"
  }
 },
 "nbformat": 4,
 "nbformat_minor": 5
}
