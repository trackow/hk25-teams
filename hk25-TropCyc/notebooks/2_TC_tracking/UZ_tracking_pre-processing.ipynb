{
 "cells": [
  {
   "cell_type": "markdown",
   "id": "64d16ac3-7964-4ec2-b69d-611cdf15c954",
   "metadata": {},
   "source": [
    "# Download variables for TC tracking with UZ algorithm and TempestExtremes software\n",
    "By Stella Bourdin"
   ]
  },
  {
   "cell_type": "code",
   "execution_count": 12,
   "id": "27c3cc16-a3b0-4aa1-8b10-b676e6a59d8c",
   "metadata": {},
   "outputs": [],
   "source": [
    "import os, intake, datetime\n",
    "import xarray as xr\n",
    "import numpy as np\n",
    "from tqdm import tqdm"
   ]
  },
  {
   "cell_type": "code",
   "execution_count": 13,
   "id": "c4e67b29-f112-453a-8113-83fe0622e9c0",
   "metadata": {},
   "outputs": [],
   "source": [
    "# Tracking parameters: Select zoom level, variables and levels\n",
    "zoom = 8 # we select zoom 8 (~25km) as a reasonnable resolution for TC tracking"
   ]
  },
  {
   "cell_type": "code",
   "execution_count": 3,
   "id": "09e52db2-6b16-43ae-8ef3-026f5fa31348",
   "metadata": {},
   "outputs": [
    {
     "data": {
      "text/plain": [
       "['CERES_EBAF',\n",
       " 'ERA5',\n",
       " 'IR_IMERG',\n",
       " 'JRA3Q',\n",
       " 'MERRA2',\n",
       " 'arp-gem-1p3km',\n",
       " 'arp-gem-2p6km',\n",
       " 'casesm2_10km_nocumulus',\n",
       " 'icon_d3hp003',\n",
       " 'icon_d3hp003aug',\n",
       " 'icon_d3hp003feb',\n",
       " 'icon_ngc4008',\n",
       " 'ifs_tco3999-ng5_deepoff',\n",
       " 'ifs_tco3999-ng5_rcbmf',\n",
       " 'ifs_tco3999-ng5_rcbmf_cf',\n",
       " 'ifs_tco3999_rcbmf',\n",
       " 'nicam_220m_test',\n",
       " 'nicam_gl11',\n",
       " 'scream-dkrz',\n",
       " 'tracking-d3hp003',\n",
       " 'um_Africa_km4p4_RAL3P3_n1280_GAL9_nest',\n",
       " 'um_CTC_km4p4_RAL3P3_n1280_GAL9_nest',\n",
       " 'um_SAmer_km4p4_RAL3P3_n1280_GAL9_nest',\n",
       " 'um_SEA_km4p4_RAL3P3_n1280_GAL9_nest',\n",
       " 'um_glm_n1280_CoMA9_TBv1p2',\n",
       " 'um_glm_n1280_GAL9',\n",
       " 'um_glm_n2560_RAL3p3']"
      ]
     },
     "execution_count": 3,
     "metadata": {},
     "output_type": "execute_result"
    }
   ],
   "source": [
    "# Load catalog\n",
    "cat = intake.open_catalog('https://digital-earths-global-hackathon.github.io/catalog/catalog.yaml')['UK']\n",
    "# List available simulations\n",
    "list(cat.keys())"
   ]
  },
  {
   "cell_type": "code",
   "execution_count": 25,
   "id": "441497c6-16c2-4ff1-b907-50cedd0d316b",
   "metadata": {},
   "outputs": [],
   "source": [
    "# Define the run you want to track, run-specific info + working directories\n",
    "run='nicam_gl11'\n",
    "## run-specific info\n",
    "time_name_2D='PT1H'\n",
    "time_name_3D='PT6H' #'PT3H'\n",
    "level_name=\"lev\" #\"pressure\"\n",
    "level_in_hPa=True #True\n",
    "orog_available=False #True\n",
    "\n",
    "scr_dir = '/work/scratch-nopw2/sbourdin/'\n",
    "run_dir = os.path.join(scr_dir,run)\n",
    "if not os.path.isdir(run_dir):\n",
    "    os.makedirs(run_dir)\n",
    "output_dir = os.path.join(run_dir,'data_healpix/')\n",
    "if not os.path.isdir(output_dir):\n",
    "    os.makedirs(output_dir)"
   ]
  },
  {
   "cell_type": "code",
   "execution_count": 26,
   "id": "82dbb44d-7a3e-40f1-adb2-df57775acd88",
   "metadata": {},
   "outputs": [
    {
     "name": "stderr",
     "output_type": "stream",
     "text": [
      "/home/users/sbourdin/.conda/envs/hackathon/lib/python3.12/site-packages/intake_xarray/base.py:21: FutureWarning: The return type of `Dataset.dims` will be changed to return a set of dimension names in future, in order to be more consistent with `DataArray.dims`. To access a mapping from dimension names to lengths, please use `Dataset.sizes`.\n",
      "  'dims': dict(self._ds.dims),\n",
      "/home/users/sbourdin/.conda/envs/hackathon/lib/python3.12/site-packages/intake_xarray/base.py:21: FutureWarning: The return type of `Dataset.dims` will be changed to return a set of dimension names in future, in order to be more consistent with `DataArray.dims`. To access a mapping from dimension names to lengths, please use `Dataset.sizes`.\n",
      "  'dims': dict(self._ds.dims),\n"
     ]
    }
   ],
   "source": [
    "# Load data\n",
    "ds_2d = cat[run](zoom=zoom, time=time_name_2D).to_dask()\n",
    "ds_3d = cat[run](zoom=zoom, time=time_name_3D).to_dask()"
   ]
  },
  {
   "cell_type": "code",
   "execution_count": 27,
   "id": "ca2b0ed3-42ef-419e-969d-45047b0104c8",
   "metadata": {},
   "outputs": [],
   "source": [
    "# Select levels\n",
    "if not level_in_hPa:\n",
    "    ds_3d[level_name] = ds_3d[level_name] / 100\n",
    "ds_3d = ds_3d.rename({level_name:\"level\"})"
   ]
  },
  {
   "cell_type": "code",
   "execution_count": 28,
   "id": "6d138f01-97cc-46a6-9f51-b48f846875a2",
   "metadata": {},
   "outputs": [],
   "source": [
    "# Select 6-hourly\n",
    "ds_2d = ds_2d.isel(time=(ds_2d.time.dt.hour % 6 == 0))\n",
    "ds_3d = ds_3d.isel(time=(ds_3d.time.dt.hour % 6 == 0))"
   ]
  },
  {
   "cell_type": "code",
   "execution_count": 29,
   "id": "18f84113-0e20-4199-9a1c-2d83da30a1b6",
   "metadata": {
    "scrolled": true
   },
   "outputs": [],
   "source": [
    "# Extract zg500 & zg250\n",
    "ds_2d[\"zg500\"] = ds_3d.zg.sel(level = 500)\n",
    "ds_2d[\"zg250\"] = ds_3d.zg.sel(level = 250)"
   ]
  },
  {
   "cell_type": "code",
   "execution_count": 30,
   "id": "b551075e-8e43-406c-8704-452a39af7288",
   "metadata": {
    "scrolled": true
   },
   "outputs": [],
   "source": [
    "# Merge and subset variables\n",
    "variables = ['psl','uas','vas', 'zg500','zg250', 'orog']\n",
    "if not orog_available:\n",
    "    orog = xr.open_dataset(scr_dir+'orog/orog_zoom_'+str(zoom)+'.nc').orog.squeeze().drop_vars(\"crs\")\n",
    "    ds_2d = ds_2d.merge(orog)\n",
    "ds = ds_2d[variables]"
   ]
  },
  {
   "cell_type": "code",
   "execution_count": 31,
   "id": "c5d48866-d872-4219-945f-d3e6b50a7c34",
   "metadata": {},
   "outputs": [],
   "source": [
    "if \"bounds\" in list(ds.attrs.keys()):\n",
    "    del ds.attrs[\"bounds\"]\n",
    "if \"regional\" in list(ds.attrs.keys()):\n",
    "    del ds.attrs[\"regional\"]"
   ]
  },
  {
   "cell_type": "code",
   "execution_count": 32,
   "id": "85f36fb9-b700-43a3-bb7b-3e64a54fbcbd",
   "metadata": {
    "scrolled": true
   },
   "outputs": [
    {
     "name": "stderr",
     "output_type": "stream",
     "text": [
      "100%|██████████| 13/13 [10:27<00:00, 48.29s/it]\n"
     ]
    }
   ],
   "source": [
    "# Save one file per month\n",
    "mth_list = np.unique(ds_2d.time.astype(str).str.slice(0,7))\n",
    "for mth in tqdm(mth_list):\n",
    "    fname = output_dir+mth+\"_zoom_\"+str(zoom)+\".nc\"\n",
    "    if not os.path.exists(fname):\n",
    "        ds.sel(time = mth).to_netcdf(fname)\n",
    "    else:\n",
    "        print(mth, \"File already exists\")"
   ]
  },
  {
   "cell_type": "code",
   "execution_count": 21,
   "id": "65c12c1c-fa1b-4638-93d1-3926e57d28a0",
   "metadata": {},
   "outputs": [],
   "source": [
    "#rm /work/scratch-nopw2/sbourdin/arp-gem-2p6km/data_healpix/*"
   ]
  },
  {
   "cell_type": "code",
   "execution_count": null,
   "id": "5991d34f-e0c9-4288-a1b1-697d7c111e34",
   "metadata": {},
   "outputs": [],
   "source": []
  }
 ],
 "metadata": {
  "kernelspec": {
   "display_name": "hackathon",
   "language": "python",
   "name": "hackathon"
  },
  "language_info": {
   "codemirror_mode": {
    "name": "ipython",
    "version": 3
   },
   "file_extension": ".py",
   "mimetype": "text/x-python",
   "name": "python",
   "nbconvert_exporter": "python",
   "pygments_lexer": "ipython3",
   "version": "3.12.10"
  }
 },
 "nbformat": 4,
 "nbformat_minor": 5
}
