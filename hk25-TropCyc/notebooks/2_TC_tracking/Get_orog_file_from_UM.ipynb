{
 "cells": [
  {
   "cell_type": "markdown",
   "id": "5c9b79aa-6adc-43f5-9dc9-7afabdcb6f7a",
   "metadata": {},
   "source": [
    "# Get Orography file from the UM for model that don't have it"
   ]
  },
  {
   "cell_type": "code",
   "execution_count": 1,
   "id": "35c866aa-2348-4a6a-acca-735696dace6d",
   "metadata": {},
   "outputs": [
    {
     "name": "stderr",
     "output_type": "stream",
     "text": [
      "/home/users/sbourdin/.conda/envs/hackathon/lib/python3.12/site-packages/pyproj/network.py:59: UserWarning: pyproj unable to set PROJ database path.\n",
      "  _set_context_ca_bundle_path(ca_bundle_path)\n"
     ]
    }
   ],
   "source": [
    "import os, intake, datetime\n",
    "import xarray as xr\n",
    "import numpy as np\n",
    "import easygems.healpix as egh\n",
    "import healpix as hp\n",
    "from tqdm import tqdm"
   ]
  },
  {
   "cell_type": "code",
   "execution_count": 2,
   "id": "e07c9e37-c6fe-45f7-8102-abc329929a65",
   "metadata": {},
   "outputs": [],
   "source": [
    "zoom=8"
   ]
  },
  {
   "cell_type": "code",
   "execution_count": 3,
   "id": "60478d53-bc59-4323-b69b-0e8c3c8ec2ed",
   "metadata": {},
   "outputs": [],
   "source": [
    "# Load catalog\n",
    "cat = intake.open_catalog('https://digital-earths-global-hackathon.github.io/catalog/catalog.yaml')['UK']\n",
    "# Define the run you want to track, run-specific info + working directories\n",
    "run='um_glm_n1280_GAL9'"
   ]
  },
  {
   "cell_type": "code",
   "execution_count": 4,
   "id": "05513518-1261-4894-b460-57e1d82545cd",
   "metadata": {},
   "outputs": [
    {
     "name": "stderr",
     "output_type": "stream",
     "text": [
      "/home/users/sbourdin/.conda/envs/hackathon/lib/python3.12/site-packages/intake_xarray/base.py:21: FutureWarning: The return type of `Dataset.dims` will be changed to return a set of dimension names in future, in order to be more consistent with `DataArray.dims`. To access a mapping from dimension names to lengths, please use `Dataset.sizes`.\n",
      "  'dims': dict(self._ds.dims),\n"
     ]
    }
   ],
   "source": [
    "orog = cat[run](zoom=zoom, time=\"PT1H\").to_dask()[\"orog\"]"
   ]
  },
  {
   "cell_type": "code",
   "execution_count": 8,
   "id": "decf27c1-34bc-4c15-8025-873b988f7b51",
   "metadata": {},
   "outputs": [],
   "source": [
    "orog.to_netcdf(\"/work/scratch-nopw2/sbourdin/orog/orog_zoom_\"+str(zoom)+\".nc\")"
   ]
  },
  {
   "cell_type": "code",
   "execution_count": null,
   "id": "a772c58b-d801-4808-8359-2142ecc6204c",
   "metadata": {},
   "outputs": [],
   "source": []
  }
 ],
 "metadata": {
  "kernelspec": {
   "display_name": "hackathon",
   "language": "python",
   "name": "hackathon"
  },
  "language_info": {
   "codemirror_mode": {
    "name": "ipython",
    "version": 3
   },
   "file_extension": ".py",
   "mimetype": "text/x-python",
   "name": "python",
   "nbconvert_exporter": "python",
   "pygments_lexer": "ipython3",
   "version": "3.12.10"
  }
 },
 "nbformat": 4,
 "nbformat_minor": 5
}
