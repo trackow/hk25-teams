{
 "cells": [
  {
   "cell_type": "markdown",
   "id": "64d16ac3-7964-4ec2-b69d-611cdf15c954",
   "metadata": {},
   "source": [
    "# Download variables for Snapshot retrieval with TempestExtremes\n",
    "By Stella Bourdin\n",
    "\n",
    "Corresponding script is `pre-processing.py`, makes it easier to run over several variables"
   ]
  },
  {
   "cell_type": "code",
   "execution_count": 1,
   "id": "27c3cc16-a3b0-4aa1-8b10-b676e6a59d8c",
   "metadata": {},
   "outputs": [],
   "source": [
    "import os, intake, datetime\n",
    "import xarray as xr\n",
    "import numpy as np\n",
    "from tqdm import tqdm"
   ]
  },
  {
   "cell_type": "code",
   "execution_count": 2,
   "id": "c4e67b29-f112-453a-8113-83fe0622e9c0",
   "metadata": {},
   "outputs": [],
   "source": [
    "# Script parameters: Select zoom level, variable\n",
    "zoom = 9 # Select zoom level closest to the model's actual resolution and/or highest zoom available\n",
    "var = \"pr\" "
   ]
  },
  {
   "cell_type": "code",
   "execution_count": 3,
   "id": "09e52db2-6b16-43ae-8ef3-026f5fa31348",
   "metadata": {
    "scrolled": true
   },
   "outputs": [
    {
     "data": {
      "text/plain": [
       "['CERES_EBAF',\n",
       " 'ERA5',\n",
       " 'IR_IMERG',\n",
       " 'JRA3Q',\n",
       " 'MERRA2',\n",
       " 'arp-gem-1p3km',\n",
       " 'arp-gem-2p6km',\n",
       " 'casesm2_10km_nocumulus',\n",
       " 'icon_d3hp003',\n",
       " 'icon_d3hp003aug',\n",
       " 'icon_d3hp003feb',\n",
       " 'icon_ngc4008',\n",
       " 'ifs_tco3999-ng5_deepoff',\n",
       " 'ifs_tco3999-ng5_rcbmf',\n",
       " 'ifs_tco3999-ng5_rcbmf_cf',\n",
       " 'ifs_tco3999_rcbmf',\n",
       " 'nicam_220m_test',\n",
       " 'nicam_gl11',\n",
       " 'scream-dkrz',\n",
       " 'tracking-d3hp003',\n",
       " 'um_Africa_km4p4_RAL3P3_n1280_GAL9_nest',\n",
       " 'um_CTC_km4p4_RAL3P3_n1280_GAL9_nest',\n",
       " 'um_SAmer_km4p4_RAL3P3_n1280_GAL9_nest',\n",
       " 'um_SEA_km4p4_RAL3P3_n1280_GAL9_nest',\n",
       " 'um_glm_n1280_CoMA9_TBv1p2',\n",
       " 'um_glm_n1280_GAL9',\n",
       " 'um_glm_n2560_RAL3p3']"
      ]
     },
     "execution_count": 3,
     "metadata": {},
     "output_type": "execute_result"
    }
   ],
   "source": [
    "# Load catalog\n",
    "cat = intake.open_catalog('https://digital-earths-global-hackathon.github.io/catalog/catalog.yaml')['UK']\n",
    "# List available simulations\n",
    "list(cat.keys())"
   ]
  },
  {
   "cell_type": "code",
   "execution_count": 4,
   "id": "441497c6-16c2-4ff1-b907-50cedd0d316b",
   "metadata": {},
   "outputs": [],
   "source": [
    "# Define the run you want to track, run-specific info + working directories\n",
    "run='um_glm_n1280_GAL9'\n",
    "## run-specific info\n",
    "time_name ='PT1H' # Select the time name for the dataset containing the variable you are looking for\n",
    "\n",
    "scr_dir = '/work/scratch-nopw2/sbourdin/'\n",
    "run_dir = os.path.join(scr_dir,run)\n",
    "if not os.path.isdir(run_dir):\n",
    "    os.makedirs(run_dir)\n",
    "output_dir = os.path.join(run_dir,'data_healpix/')\n",
    "if not os.path.isdir(output_dir):\n",
    "    os.makedirs(output_dir)"
   ]
  },
  {
   "cell_type": "code",
   "execution_count": 5,
   "id": "82dbb44d-7a3e-40f1-adb2-df57775acd88",
   "metadata": {},
   "outputs": [
    {
     "name": "stderr",
     "output_type": "stream",
     "text": [
      "/home/users/sbourdin/.conda/envs/hackathon/lib/python3.12/site-packages/pyproj/network.py:59: UserWarning: pyproj unable to set PROJ database path.\n",
      "  _set_context_ca_bundle_path(ca_bundle_path)\n",
      "/home/users/sbourdin/.conda/envs/hackathon/lib/python3.12/site-packages/intake_xarray/base.py:21: FutureWarning: The return type of `Dataset.dims` will be changed to return a set of dimension names in future, in order to be more consistent with `DataArray.dims`. To access a mapping from dimension names to lengths, please use `Dataset.sizes`.\n",
      "  'dims': dict(self._ds.dims),\n"
     ]
    }
   ],
   "source": [
    "# Load data\n",
    "ds = cat[run](zoom=zoom, time=time_name).to_dask()[var]"
   ]
  },
  {
   "cell_type": "code",
   "execution_count": 6,
   "id": "6d138f01-97cc-46a6-9f51-b48f846875a2",
   "metadata": {},
   "outputs": [],
   "source": [
    "# Select 6-hourly\n",
    "ds = ds.isel(time=(ds.time.dt.hour % 6 == 0))"
   ]
  },
  {
   "cell_type": "code",
   "execution_count": 7,
   "id": "c5d48866-d872-4219-945f-d3e6b50a7c34",
   "metadata": {},
   "outputs": [],
   "source": [
    "if \"bounds\" in list(ds.attrs.keys()):\n",
    "    del ds.attrs[\"bounds\"]\n",
    "if \"regional\" in list(ds.attrs.keys()):\n",
    "    del ds.attrs[\"regional\"]"
   ]
  },
  {
   "cell_type": "code",
   "execution_count": 8,
   "id": "85f36fb9-b700-43a3-bb7b-3e64a54fbcbd",
   "metadata": {
    "scrolled": true
   },
   "outputs": [
    {
     "name": "stderr",
     "output_type": "stream",
     "text": [
      "100%|██████████| 16/16 [04:10<00:00, 15.64s/it]\n"
     ]
    }
   ],
   "source": [
    "# Save one file per month\n",
    "mth_list = np.unique(ds.time.astype(str).str.slice(0,7))\n",
    "for mth in tqdm(mth_list):\n",
    "    fname = output_dir+mth+\"_\"+var+\"_zoom_\"+str(zoom)+\".nc\"\n",
    "    if not os.path.exists(fname):\n",
    "        ds.sel(time = mth).to_netcdf(fname)\n",
    "    else:\n",
    "        print(mth, \"File already exists\")"
   ]
  },
  {
   "cell_type": "code",
   "execution_count": null,
   "id": "5991d34f-e0c9-4288-a1b1-697d7c111e34",
   "metadata": {},
   "outputs": [],
   "source": []
  }
 ],
 "metadata": {
  "kernelspec": {
   "display_name": "hackathon",
   "language": "python",
   "name": "hackathon"
  },
  "language_info": {
   "codemirror_mode": {
    "name": "ipython",
    "version": 3
   },
   "file_extension": ".py",
   "mimetype": "text/x-python",
   "name": "python",
   "nbconvert_exporter": "python",
   "pygments_lexer": "ipython3",
   "version": "3.12.10"
  }
 },
 "nbformat": 4,
 "nbformat_minor": 5
}
