{
 "cells": [
  {
   "cell_type": "markdown",
   "id": "6fd5bb18-78c3-473a-ad6c-25c965ab9d86",
   "metadata": {},
   "source": [
    "# Generate ConnectivityFiles for HealPix grids to be used with TempestExtremes"
   ]
  },
  {
   "cell_type": "markdown",
   "id": "ef8c655d-b6e8-45cf-8b3b-9304f8e1c358",
   "metadata": {},
   "source": [
    "By Bryce Harrop\n",
    "\n",
    "Adapted by Stella Bourdin"
   ]
  },
  {
   "cell_type": "code",
   "execution_count": 16,
   "id": "fa01b8aa-8b95-4b28-88dc-f67ae50b9f9c",
   "metadata": {},
   "outputs": [],
   "source": [
    "import uxarray as ux\n",
    "import xarray as xr\n",
    "import warnings\n",
    "import os"
   ]
  },
  {
   "cell_type": "markdown",
   "id": "d4e90403-a091-4198-9ee5-28a8b7275b71",
   "metadata": {},
   "source": [
    "Let's generate exodus grid files for healpix grids at varous zoom levels using uxarray.  The end goal is to generate connectivity files to be used with Tempest Extremes.  Testing has shown that this connectivity file is identical regardless of the choice for `pixels_only`, so it will be set to `False` by default.\n",
    "\n",
    "At the time of writing, the exodus files do not have a necessary dimension, `num_elem`, that provides the total number of elements.  It is anticipated that this will be added by the uxarray team, so the call to `add_num_elem` can be skipped in the future."
   ]
  },
  {
   "cell_type": "code",
   "execution_count": 17,
   "id": "cffb572e-93ec-4bf1-811e-a89b420479a1",
   "metadata": {},
   "outputs": [],
   "source": [
    "# User settings\n",
    "zoom_levels      = [0,1] #[0, 1, 2, 3, 4, 5, 6, 7, 8, 9, 10]\n",
    "pixels_only      = False\n",
    "grid_format      = 'exodus'\n",
    "do_add_num_elem  = True\n",
    "scr_dir = '/work/scratch-nopw2/sbourdin/ConnectivityFiles/'"
   ]
  },
  {
   "cell_type": "code",
   "execution_count": 18,
   "id": "7ba51296-1bdc-4804-89ca-9969cc24cc20",
   "metadata": {},
   "outputs": [],
   "source": [
    "def add_num_elem(ds_grid):\n",
    "    if 'num_elem' in ds_grid.dims:\n",
    "        warnings.warn('num_elem is already a dimension.  Exiting add_num_elem()')\n",
    "    else:\n",
    "        print('adding in dimension \"num_elem\"')\n",
    "        # Assuming you have the number of elements from the block; num_el_in_blk1\n",
    "        num_elem = 0\n",
    "        for dim in ds_grid.dims:\n",
    "            if 'num_el_in_blk' in dim:\n",
    "                num_elem = num_elem + ds_grid[dim].size\n",
    "                print(dim, ds_grid[dim].size, num_elem)\n",
    "        print('Total num_elem is ', num_elem)\n",
    "\n",
    "        # Add the new dimension 'num_elem' to the ds_grid\n",
    "        ds_grid = ds_grid.assign_coords(num_elem=range(num_elem))\n",
    "\n",
    "        # Add a new variable using this dimension\n",
    "        ds_grid['num_elem'] = xr.DataArray(range(num_elem), dims='num_elem')\n",
    "\n",
    "        # Add in metadata\n",
    "        ds_grid['num_elem'].attrs['long_name'] = 'Total Number of Elements'\n",
    "    return ds_grid"
   ]
  },
  {
   "cell_type": "code",
   "execution_count": 19,
   "id": "a8436602-be07-4b7f-b537-d4e5e9adbe7a",
   "metadata": {
    "scrolled": true
   },
   "outputs": [
    {
     "name": "stdout",
     "output_type": "stream",
     "text": [
      "healpix_grid_zoom_0_format_exodus.nc\n",
      "output for zoom level 0 already exists.  Skipping...\n",
      "\n",
      "healpix_grid_zoom_1_format_exodus.nc\n",
      "output for zoom level 1 already exists.  Skipping...\n",
      "\n"
     ]
    }
   ],
   "source": [
    "for zoom in zoom_levels:\n",
    "    filename = 'healpix_grid_zoom_' + str(zoom) + '_format_' + grid_format + '.nc'\n",
    "    print(filename)\n",
    "    if os.path.exists(scr_dir + filename):\n",
    "        print('output for zoom level ' + str(zoom) + ' already exists.  Skipping...')\n",
    "    else:\n",
    "        uxgrid_healpix = ux.Grid.from_healpix(zoom, pixels_only=pixels_only)\n",
    "        ds_grid = uxgrid_healpix.to_xarray(grid_format=grid_format)\n",
    "        if do_add_num_elem:\n",
    "            ds_grid = add_num_elem(ds_grid)\n",
    "        ds_grid.to_netcdf(scr_dir + filename, mode='w')\n",
    "    print( )"
   ]
  },
  {
   "cell_type": "markdown",
   "id": "c82c3eee-38e7-4b71-8059-7bb6d71f7b8f",
   "metadata": {},
   "source": [
    "# Break for running `generate_connectivity_files.sh`"
   ]
  },
  {
   "cell_type": "markdown",
   "id": "4e15546b-de88-456c-91f7-39b5c583f458",
   "metadata": {},
   "source": [
    "Uh oh... the connectivity files made with the exodus grid files aren't working correctly.  The values for grid cell lon, lat, and area (the first three columns in the connectivity file) are incorrect and this causes Tempest Extremes' great-circle calculations to get messed up.\n",
    "\n",
    "Let's run this thing again, but this time we will make the script files."
   ]
  },
  {
   "cell_type": "code",
   "execution_count": null,
   "id": "bc189186-b6e3-4ebd-a6e6-30bf6706d9e5",
   "metadata": {},
   "outputs": [],
   "source": [
    "grid_format      = 'scrip'\n",
    "do_add_num_elem  = False"
   ]
  },
  {
   "cell_type": "code",
   "execution_count": null,
   "id": "f4b202cc-3d11-4043-85e6-f767084ac035",
   "metadata": {},
   "outputs": [],
   "source": [
    "for zoom in zoom_levels[-1:]:\n",
    "    filename = 'healpix_grid_zoom_' + str(zoom) + '_format_' + grid_format + '.nc'\n",
    "    print(filename)\n",
    "    if os.path.exists(scr_dir + filename):\n",
    "        print('output for zoom level ' + str(zoom) + ' already exists.  Skipping...')\n",
    "    else:\n",
    "        uxgrid_healpix = ux.Grid.from_healpix(zoom, pixels_only=pixels_only)\n",
    "        ds_grid = uxgrid_healpix.to_xarray(grid_format=grid_format)\n",
    "        if do_add_num_elem:\n",
    "            ds_grid = add_num_elem(ds_grid)\n",
    "        ds_grid.to_netcdf(scr_dir + filename, mode='w')\n",
    "    print( )"
   ]
  },
  {
   "cell_type": "code",
   "execution_count": null,
   "id": "51ea3c45-4263-47ad-91a1-66c5ec96dc28",
   "metadata": {},
   "outputs": [],
   "source": [
    "def correct_connectivity_file(scrip_file, broken_connect, updated_connect):\n",
    "\n",
    "    # Load correct values from the NetCDF file using xarray\n",
    "    correct_dataset = xr.open_dataset(scrip_file)\n",
    "\n",
    "    # Assume correct_dataset has the correct longitude, latitude, and area\n",
    "    correct_longitudes = correct_dataset['grid_center_lon'].values\n",
    "    correct_latitudes  = correct_dataset['grid_center_lat'].values\n",
    "    correct_areas      = correct_dataset['grid_area'].values\n",
    "\n",
    "    # Read and parse your text file, skipping the second line\n",
    "    with open(broken_connect, 'r') as f:\n",
    "        header = f.readline().strip()\n",
    "        metadata_line = f.readline().strip()\n",
    "        data_lines = [line.strip() for line in f.readlines()]\n",
    "\n",
    "    # Prepare updated lines\n",
    "    updated_lines = []\n",
    "\n",
    "    for i, line in enumerate(data_lines):\n",
    "        values = line.split(',')\n",
    "        # Overwrite incorrect values with correct ones\n",
    "        values[0] = f\"{correct_longitudes[i]:.14e}\"\n",
    "        values[1] = f\"{correct_latitudes[i]:.14e}\"\n",
    "        values[2] = f\"{correct_areas[i]:.14e}\"\n",
    "        updated_lines.append(','.join(values))\n",
    "\n",
    "    # Write updated data back to a new text file\n",
    "    if not os.path.exists(updated_connect):\n",
    "        with open(updated_connect, 'w') as f:\n",
    "            f.write(header + '\\n')\n",
    "            f.write(metadata_line + '\\n')\n",
    "            for line in updated_lines:\n",
    "                f.write(line + '\\n')\n",
    "    else:\n",
    "        print('Updated connect file already exists.')\n",
    "\n",
    "    # Close the dataset\n",
    "    correct_dataset.close()\n",
    "\n",
    "    print(\"File updated successfully.\")"
   ]
  },
  {
   "cell_type": "code",
   "execution_count": null,
   "id": "5e17d648-9e22-4ee4-9a9f-e9531b33ec9b",
   "metadata": {
    "scrolled": true
   },
   "outputs": [],
   "source": [
    "# Paths to your files\n",
    "grid_path        = '../../ConnectivityFiles/'\n",
    "\n",
    "for zoom in range(11):\n",
    "    scrip_file       = scr_dir + 'healpix_grid_zoom_' + str(zoom) + '_format_scrip.nc'\n",
    "    broken_connect   = scr_dir + 'connect_healpix_zoom_'+str(zoom)+'.txt'\n",
    "    updated_connect  = grid_path + 'ConnectivityFiles_for_healpix_zoom_' + str(zoom) + '.txt'\n",
    "\n",
    "    correct_connectivity_file(scrip_file, broken_connect, updated_connect)"
   ]
  },
  {
   "cell_type": "code",
   "execution_count": null,
   "id": "2be575c2-b2b2-4f47-b593-91cfadb2a1c1",
   "metadata": {},
   "outputs": [],
   "source": []
  }
 ],
 "metadata": {
  "kernelspec": {
   "display_name": "hackathon",
   "language": "python",
   "name": "hackathon"
  },
  "language_info": {
   "codemirror_mode": {
    "name": "ipython",
    "version": 3
   },
   "file_extension": ".py",
   "mimetype": "text/x-python",
   "name": "python",
   "nbconvert_exporter": "python",
   "pygments_lexer": "ipython3",
   "version": "3.12.10"
  }
 },
 "nbformat": 4,
 "nbformat_minor": 5
}
