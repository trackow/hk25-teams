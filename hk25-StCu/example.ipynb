{
 "cells": [
  {
   "cell_type": "code",
   "execution_count": null,
   "id": "62c99f09-63fa-4132-abfa-85f0f1d1e473",
   "metadata": {},
   "outputs": [],
   "source": [
    "import intake\n",
    "from easygems import healpix as egh\n",
    "\n",
    "import numpy as np\n",
    "\n",
    "import matplotlib.pyplot as plt\n",
    "import cartopy.crs as ccrs\n",
    "import cartopy.feature as cf\n",
    "\n",
    "import warnings\n",
    "warnings.filterwarnings(\"ignore\", category=FutureWarning)"
   ]
  },
  {
   "cell_type": "code",
   "execution_count": null,
   "id": "15bf252a-3bb0-4b50-af44-5a642997cf6c",
   "metadata": {},
   "outputs": [],
   "source": [
    "# Time period\n",
    "\n",
    "time = ('2020-08-01','2020-08-31')\n",
    "\n",
    "# Region\n",
    "\n",
    "domains10x10 = {\n",
    "    \"peruvian\":     np.array([-90, -80, -20, -10]) ,\n",
    "    \"namibian\":     np.array([0, 10, -20, -10]),\n",
    "    \"californian\":  np.array([-130, -120, 20, 30]),\n",
    "    \"canarian\":     np.array([-35, -25, 15, 25])\n",
    "}\n",
    "\n",
    "map_domain = domains10x10['namibian'] + np.array([-1,1,-1,1])*10"
   ]
  },
  {
   "cell_type": "code",
   "execution_count": null,
   "id": "46b69400-80d3-4adb-b4ec-cbac61feb3fb",
   "metadata": {},
   "outputs": [],
   "source": [
    "# Load dataset\n",
    "\n",
    "hknode = 'EU'\n",
    "\n",
    "cat = intake.open_catalog(\"https://digital-earths-global-hackathon.github.io/catalog/catalog.yaml\")[hknode]\n",
    "\n",
    "sim_id = 'icon_d3hp003'\n",
    "sim_opt = {'zoom':8, 'time':'PT6H', 'time_method':'inst'}\n",
    "\n",
    "ds = cat[sim_id](**sim_opt).to_dask().pipe(egh.attach_coords)"
   ]
  },
  {
   "cell_type": "code",
   "execution_count": null,
   "id": "d4e353c7-097e-428a-aafc-9dea72c87e78",
   "metadata": {},
   "outputs": [],
   "source": [
    "# Select time period and region\n",
    "\n",
    "cells = egh.isel_extent(ds,map_domain+np.array([-1,1,-1,1])) # + 1 deg margin on each side\n",
    "\n",
    "ds = ds.sel(time=slice(*time)).isel(cell=cells)"
   ]
  },
  {
   "cell_type": "code",
   "execution_count": null,
   "id": "a6302d72-f634-4c2b-a604-0564f13f85ec",
   "metadata": {},
   "outputs": [],
   "source": [
    "%%time\n",
    "\n",
    "# Integrate a 3D variable in vertical\n",
    "\n",
    "ds['qallvi'] = (ds['qall'].integrate('pressure')/9.81) \\\n",
    "    .assign_attrs(long_name='Total condensate', units='kg/m^2')"
   ]
  },
  {
   "cell_type": "code",
   "execution_count": null,
   "id": "59d2e9b1-9737-4acf-a455-74feedcf9203",
   "metadata": {},
   "outputs": [],
   "source": [
    "# Plot maps\n",
    "\n",
    "var = 'qallvi'   # variable\n",
    "cmap = 'Blues_r' # colormap\n",
    "vmax = 1         # max level on the color scale\n",
    "\n",
    "time_step = np.timedelta64(10,'D') # Plot a map every 10 days\n",
    "\n",
    "\n",
    "plot_path = f\"./figures/example/\"\n",
    "figsize = (8,6)\n",
    "\n",
    "\n",
    "for t in np.arange(ds.time[0].values,ds.time[-1].values,time_step):\n",
    "    \n",
    "    fig, ax = plt.subplots(figsize=figsize,\n",
    "                            subplot_kw={\"projection\": ccrs.PlateCarree()},\n",
    "                            constrained_layout=True)\n",
    "\n",
    "    ax.set_extent(map_domain, crs=ccrs.PlateCarree())\n",
    "\n",
    "    im = egh.healpix_show(ds[var].sel(time=t), ax=ax, cmap=cmap, vmin=0, vmax=vmax)\n",
    "    \n",
    "    ax.add_feature(cf.NaturalEarthFeature('physical', 'land', '10m'),\n",
    "                   facecolor='none', edgecolor='red', linewidth=1)\n",
    "    gl = ax.gridlines(draw_labels=True)\n",
    "    gl.top_labels = False\n",
    "    gl.right_labels = False\n",
    "\n",
    "    cb = plt.colorbar(im, ax=ax, shrink=0.9, aspect=30, pad=0.02, extend='max',\n",
    "                      label=f\"{ds[var].attrs['long_name']:s} [{ds[var].attrs['units']:s}]\")\n",
    "\n",
    "    datestr = t.astype('datetime64[h]').item().strftime('%Y-%m-%dT%H')\n",
    "    ax.set_title(datestr+f\"  zoom={sim_opt['zoom']:d}\")\n",
    "    \n",
    "    plt.savefig(plot_path+var+'_'+datestr,bbox_inches='tight',dpi=300)\n",
    "    \n",
    "    print(datestr)\n",
    "    # plt.close(fig) # Uncomment if you don't want to see the plots in jupyter but only save to files"
   ]
  }
 ],
 "metadata": {
  "kernelspec": {
   "display_name": "global-hackathon",
   "language": "python",
   "name": "global-hackathon"
  },
  "language_info": {
   "codemirror_mode": {
    "name": "ipython",
    "version": 3
   },
   "file_extension": ".py",
   "mimetype": "text/x-python",
   "name": "python",
   "nbconvert_exporter": "python",
   "pygments_lexer": "ipython3",
   "version": "3.12.10"
  }
 },
 "nbformat": 4,
 "nbformat_minor": 5
}
