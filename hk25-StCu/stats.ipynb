{
 "cells": [
  {
   "cell_type": "code",
   "execution_count": null,
   "id": "62c99f09-63fa-4132-abfa-85f0f1d1e473",
   "metadata": {},
   "outputs": [],
   "source": [
    "# External packages\n",
    "\n",
    "import intake\n",
    "from easygems import healpix as egh\n",
    "\n",
    "import numpy as np\n",
    "\n",
    "import matplotlib.pyplot as plt\n",
    "\n",
    "import calendar\n",
    "\n",
    "import warnings\n",
    "warnings.filterwarnings(\"ignore\", category=FutureWarning)"
   ]
  },
  {
   "cell_type": "code",
   "execution_count": null,
   "id": "1c1c872a-2222-4a48-b58c-db3efd590700",
   "metadata": {},
   "outputs": [],
   "source": [
    "# Functions from our repo\n",
    "\n",
    "import tools.utils as sc"
   ]
  },
  {
   "cell_type": "code",
   "execution_count": null,
   "id": "15bf252a-3bb0-4b50-af44-5a642997cf6c",
   "metadata": {},
   "outputs": [],
   "source": [
    "# Time period\n",
    "time = ('2020-04-01','2020-04-30')\n",
    "# time = ('2020-08-01','2020-08-31')\n",
    "\n",
    "# Region\n",
    "map_domain = sc.domains10x10['namibian']"
   ]
  },
  {
   "cell_type": "code",
   "execution_count": null,
   "id": "929ccd27-d240-4379-a747-0800120aa4c3",
   "metadata": {},
   "outputs": [],
   "source": [
    "# Dataset specification\n",
    "\n",
    "hknode = 'EU'\n",
    "\n",
    "simulations = {\n",
    "    'IFS': {\n",
    "        'id':    'ifs_tco3999-ng5_rcbmf_cf',\n",
    "        'opt':   {'zoom':11, 'time':'PT1H'},\n",
    "        'rnm':   {'level':'pressure', 'value':'cell', 'clwvi':'lwp'},\n",
    "        'vunits': 'hPa'\n",
    "    },\n",
    "    'ICON': {\n",
    "        'id':    'icon_d3hp003',\n",
    "        'opt':   {'zoom':11, 'time':'PT6H', 'time_method':'inst'},\n",
    "        'rnm':   {'qall':'lwc'}\n",
    "    },\n",
    "    'NICAM': {\n",
    "        'id':    'nicam_gl11',\n",
    "        'opt':   {'zoom': 9, 'time':'PT6H'},\n",
    "        'rnm':   {'lev':'pressure', 'qall':'lwc'}\n",
    "    },\n",
    "    'UM': {\n",
    "        'id':    'um_glm_n2560_RAL3p3',\n",
    "        'opt':   {'zoom':10, 'time':'PT3H'},\n",
    "        'rnm':   {'clw':'lwc'}\n",
    "    }\n",
    "}"
   ]
  },
  {
   "cell_type": "code",
   "execution_count": null,
   "id": "fafddabf-1e78-4a4d-91ee-6c6e16c23d1e",
   "metadata": {
    "scrolled": true
   },
   "outputs": [],
   "source": [
    "# Load datasets\n",
    "\n",
    "cat = intake.open_catalog(\"https://digital-earths-global-hackathon.github.io/catalog/catalog.yaml\")[hknode]\n",
    "\n",
    "ds = {}\n",
    "\n",
    "for name, params in simulations.items():\n",
    "    ds[name] = cat[params['id']](**params['opt']).to_dask() \\\n",
    "        .rename(params['rnm']).pipe(egh.attach_coords)\n",
    "\n",
    "    if 'pressure' in ds[name] and 'units' not in ds[name]['pressure'].attrs:\n",
    "        ds[name]['pressure'].attrs['units'] = params['vunits']\n",
    "    \n",
    "    print(name)"
   ]
  },
  {
   "cell_type": "code",
   "execution_count": null,
   "id": "0a703341-a88f-4f41-a46b-95c121f211eb",
   "metadata": {},
   "outputs": [],
   "source": [
    "%%time\n",
    "\n",
    "# Select time period and region\n",
    "\n",
    "for name in ds.keys():\n",
    "    cells = egh.isel_extent(ds[name],map_domain)\n",
    "    ds[name] = ds[name].sel(time=slice(*time)).isel({'cell':cells})"
   ]
  },
  {
   "cell_type": "code",
   "execution_count": null,
   "id": "17d35bac-775e-4b0b-b02b-f04af58b0a2c",
   "metadata": {},
   "outputs": [],
   "source": [
    "%%time\n",
    "\n",
    "# Derive lwp and wamax\n",
    "\n",
    "for name in ds.keys():\n",
    "\n",
    "    if 'lwp' not in ds[name] and 'lwc' in ds[name]:\n",
    "        ds[name]['lwp'] = sc.integrate_wrt_pressure(ds[name]['lwc'])\n",
    "    ds[name]['lwp'].attrs = {'name':'LWP','units':'kg/m^2'}\n",
    "    print(name+' LWP integration')\n",
    "    \n",
    "    if 'wa' in ds[name]:\n",
    "        ds[name]['wamax'] = sc.reduce_below(ds[name]['wa'],900e2,np.max)\n",
    "        ds[name]['wamax'].attrs = {'name':'Max w <900hPa','units':'m/s'}\n",
    "        print(name+' wa max <900hPa')"
   ]
  },
  {
   "cell_type": "code",
   "execution_count": null,
   "id": "a29e0c98-5918-41a2-aafb-ff53ea0bc181",
   "metadata": {},
   "outputs": [],
   "source": [
    "%%time\n",
    "\n",
    "# Calculate simple stats\n",
    "\n",
    "for name in ds.keys():\n",
    "    for var in ['lwp','wamax']:\n",
    "        ds[name] = sc.basic_stats(ds[name],var)\n",
    "        print(name+' '+var)"
   ]
  },
  {
   "cell_type": "code",
   "execution_count": null,
   "id": "b52b90ba-e0c4-4fad-b107-315bf89fc4bf",
   "metadata": {},
   "outputs": [],
   "source": [
    "# Read EarthCare file\n",
    "\n",
    "ecfile = './stats_earthcare_April2025.csv'\n",
    "\n",
    "month = calendar.month_name[np.datetime64(time[0]).item().month]\n",
    "if month=='April':\n",
    "    ds['EC'] = sc.read_earthcare_csv(ecfile)"
   ]
  },
  {
   "cell_type": "code",
   "execution_count": null,
   "id": "dadcb547-9541-4752-9cbe-fce8416b5521",
   "metadata": {},
   "outputs": [],
   "source": [
    "# Plot timeseries\n",
    "\n",
    "plot_path = f\"./figures/\"\n",
    "\n",
    "stats = ['_mean','_std','_skw','_hom']\n",
    "variables = ['lwp','wamax']\n",
    "labels = ['LWP [kg/m2]','Max w <900hPa [m/s]']\n",
    "\n",
    "for var, lab in zip(variables,labels):\n",
    "    Npanel = len(stats)\n",
    "    fig, axs = plt.subplots(Npanel,1, figsize=(12,3*Npanel),\n",
    "                            sharex=True, constrained_layout=True)\n",
    "    \n",
    "    for ax, stat in zip(axs,stats):\n",
    "        leg = []\n",
    "        for name in ds.keys():\n",
    "            if name=='EC':\n",
    "                if var+stat in ds[name]:\n",
    "                    ax.plot(ds[name].time, ds[name][var+stat], marker='o', color='black')\n",
    "                    leg.append(name)                \n",
    "            else:\n",
    "                ax.plot(ds[name].time, ds[name][var+stat])\n",
    "                leg.append(name)\n",
    "        ax.set_ylabel(lab+stat.replace('_',' '))\n",
    "        ax.grid()\n",
    "        ax.autoscale(tight=True)\n",
    "        \n",
    "    fig.legend(labels=leg,bbox_to_anchor=(0.5,0),loc='upper center',ncol=len(ds))\n",
    "    \n",
    "    plt.savefig(plot_path+'stat_timeseries_'+var+'_'+month,bbox_inches='tight',dpi=300)"
   ]
  },
  {
   "cell_type": "code",
   "execution_count": null,
   "id": "ecf77c97-5571-422f-a888-2798be1d9314",
   "metadata": {},
   "outputs": [],
   "source": [
    "# Plot histograms\n",
    "\n",
    "plot_path = f\"./figures/\"\n",
    "\n",
    "variables = ['lwp','wamax']\n",
    "labels = ['LWP [kg/m2]','Max w <900hPa [m/s]']\n",
    "binedges = [np.arange(0,0.4,0.01), np.arange(0,0.5,0.01)]\n",
    "\n",
    "for var, be, lab in zip(variables,binedges,labels):\n",
    "    \n",
    "    plt.figure()\n",
    "    for name in simulations.keys():\n",
    "        plt.hist( np.ravel(ds[name][var]), bins=be, density=True, histtype='step', label=name)\n",
    "    plt.legend()\n",
    "    plt.grid()\n",
    "    plt.ylabel('PDF')\n",
    "    plt.xlabel(lab)\n",
    "    plt.yscale('log')\n",
    "    plt.ylim((1e-1,1e2))\n",
    "\n",
    "    plt.savefig(plot_path+'stat_histograms_'+var+'_'+month,bbox_inches='tight',dpi=300)"
   ]
  }
 ],
 "metadata": {
  "kernelspec": {
   "display_name": "global-hackathon",
   "language": "python",
   "name": "global-hackathon"
  },
  "language_info": {
   "codemirror_mode": {
    "name": "ipython",
    "version": 3
   },
   "file_extension": ".py",
   "mimetype": "text/x-python",
   "name": "python",
   "nbconvert_exporter": "python",
   "pygments_lexer": "ipython3",
   "version": "3.12.10"
  }
 },
 "nbformat": 4,
 "nbformat_minor": 5
}
