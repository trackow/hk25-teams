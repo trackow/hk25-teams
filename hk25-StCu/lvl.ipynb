{
 "cells": [
  {
   "cell_type": "code",
   "execution_count": null,
   "id": "a2e2f17a-41db-40ea-ac1f-20ad49fddf45",
   "metadata": {},
   "outputs": [],
   "source": [
    "# External packages\n",
    "\n",
    "import intake\n",
    "from easygems import healpix as egh\n",
    "\n",
    "import numpy as np\n",
    "import xarray as xr\n",
    "\n",
    "import matplotlib.pyplot as plt\n",
    "import cartopy.crs as ccrs\n",
    "\n",
    "import calendar\n",
    "\n",
    "import warnings\n",
    "warnings.filterwarnings(\"ignore\", category=FutureWarning)"
   ]
  },
  {
   "cell_type": "code",
   "execution_count": null,
   "id": "71a3a3e7-fe5c-4162-bd36-2a611668678c",
   "metadata": {},
   "outputs": [],
   "source": [
    "# Functions from our repo\n",
    "\n",
    "import tools.utils as sc"
   ]
  },
  {
   "cell_type": "code",
   "execution_count": null,
   "id": "7d538ef3-a9c1-424d-96f8-c4edca628672",
   "metadata": {},
   "outputs": [],
   "source": [
    "# Time period\n",
    "time = ('2020-04-01','2020-04-30')\n",
    "# time = ('2020-08-01','2020-08-31')\n",
    "\n",
    "# Region\n",
    "map_domain = sc.domains10x10['namibian']"
   ]
  },
  {
   "cell_type": "code",
   "execution_count": null,
   "id": "b5471ca0-2f34-4b2f-a639-9d2a09a4e700",
   "metadata": {},
   "outputs": [],
   "source": [
    "# Load dataset\n",
    "\n",
    "hknode = 'EU'\n",
    "sim_id = 'icon_d3hp003'\n",
    "sim_opt = {'zoom':11, 'time':'PT6H', 'time_method':'inst'}\n",
    "\n",
    "cat = intake.open_catalog(\"https://digital-earths-global-hackathon.github.io/catalog/catalog.yaml\")[hknode]\n",
    "ds = cat[sim_id](**sim_opt).to_dask().pipe(egh.attach_coords)"
   ]
  },
  {
   "cell_type": "code",
   "execution_count": null,
   "id": "f7da150c-2e04-413a-b0d5-a7155a8101b2",
   "metadata": {},
   "outputs": [],
   "source": [
    "# Read EarthCare file\n",
    "\n",
    "ecfile = './stats_earthcare_April2025.csv'\n",
    "\n",
    "month = calendar.month_name[np.datetime64(time[0]).item().month]\n",
    "if month=='April':\n",
    "    earthcare = sc.read_earthcare_csv(ecfile) \n",
    "else:\n",
    "    earthcare = None"
   ]
  },
  {
   "cell_type": "code",
   "execution_count": null,
   "id": "4b5a9e62-b00f-4442-823d-bc2454a76a27",
   "metadata": {},
   "outputs": [],
   "source": [
    "# Select data for the time period and region\n",
    "# (some little margin on each side is needed for a smooth remapping into lon-lat)\n",
    "\n",
    "cells = egh.isel_extent(ds,map_domain+np.array([-1,1,-1,1])*0.1)\n",
    "ds = ds.sel(time=slice(*time)).isel(cell=cells)"
   ]
  },
  {
   "cell_type": "code",
   "execution_count": null,
   "id": "145503a6-6112-4717-b4c5-e9d0e6dddda3",
   "metadata": {},
   "outputs": [],
   "source": [
    "%%time\n",
    "\n",
    "# Integrate qall\n",
    "\n",
    "ds['lwp'] = sc.integrate_wrt_pressure(ds['qall']) \\\n",
    "    .assign_attrs(long_name='Column condensate',units='kg/m^2')"
   ]
  },
  {
   "cell_type": "code",
   "execution_count": null,
   "id": "e8d3cbbd-8a34-42d4-b311-7ad34007d716",
   "metadata": {},
   "outputs": [],
   "source": [
    "# Calculate basic stats\n",
    "\n",
    "ds = sc.basic_stats(ds,'lwp')"
   ]
  },
  {
   "cell_type": "code",
   "execution_count": null,
   "id": "62cf6f06-9be7-44dd-b16a-dc376c7bb2d0",
   "metadata": {},
   "outputs": [],
   "source": [
    "# Remap to regular lon-lat\n",
    "\n",
    "# Lon/lat ranges\n",
    "dlon = map_domain[1]-map_domain[0]\n",
    "dlat = map_domain[3]-map_domain[2]\n",
    "\n",
    "# Estimate number of needed grid points\n",
    "nlon = np.ceil(dlon/360 * 4*2**sim_opt['zoom'] *np.sqrt(2)).astype(int)\n",
    "nlat = np.ceil(nlon * dlat/dlon).astype(int)\n",
    "\n",
    "# Approximate grid cell size in km\n",
    "res = dlat*111/nlat\n",
    "\n",
    "# Supersampling to avoid aliasing following easygems\n",
    "supersampling = {\"lon\": 4, \"lat\": 4}\n",
    "\n",
    "idx = sc.get_nn_lon_lat_index(\n",
    "    2**sim_opt['zoom'],\n",
    "    np.linspace(map_domain[0], map_domain[1], supersampling[\"lon\"] * nlon),\n",
    "    np.linspace(map_domain[2], map_domain[3], supersampling[\"lat\"] * nlat),\n",
    ")\n",
    "\n",
    "# Remap and assign into a new dataset\n",
    "remap = xr.Dataset({\n",
    "    'lwp': ds['lwp'].drop_vars(('lon','lat')).sel(cell=idx) \\\n",
    "                    .drop_vars(('crs','cell')).coarsen(supersampling).mean() \n",
    "    }).assign_attrs(resolution=res)"
   ]
  },
  {
   "cell_type": "code",
   "execution_count": null,
   "id": "f8d0dce1-7480-46f1-883e-3719211c3475",
   "metadata": {},
   "outputs": [],
   "source": [
    "# Cloud mask based on threshold\n",
    "\n",
    "remap['cloud_mask']  = (remap['lwp'] > 1e-1)\\\n",
    "    .assign_attrs(long_name='Cloud mask')\n",
    "remap['cloud_cover'] = remap['cloud_mask'].mean(dim=('lat','lon')) \\\n",
    "    .assign_attrs(long_name='Cloud cover')"
   ]
  },
  {
   "cell_type": "code",
   "execution_count": null,
   "id": "9387593c-d3b1-46da-819d-07b106933489",
   "metadata": {},
   "outputs": [],
   "source": [
    "%%time\n",
    "\n",
    "# Calculate LvL score\n",
    "\n",
    "remap = sc.LvL2dataset(remap)"
   ]
  },
  {
   "cell_type": "code",
   "execution_count": null,
   "id": "e52c94cf-03d1-4e25-8bc7-818c1d9b0926",
   "metadata": {},
   "outputs": [],
   "source": [
    "# Plot timeseries\n",
    "\n",
    "plot_path = f\"./figures/\"\n",
    "\n",
    "variables = ['lwp_mean','lwp_std','lwp_skw',\n",
    "             'cloud_cover',['ks_cloud','ks_void']]\n",
    "labels = ['LWP [kg/m2] mean', 'LWP [kg/m2] std', 'LWP skw',\n",
    "          'Cloud cover','Deviation from randomness']\n",
    "\n",
    "Npanel = len(variables)\n",
    "fig, axs = plt.subplots(Npanel,1, figsize=(12,3*Npanel),\n",
    "                        sharex=True, constrained_layout=True)\n",
    "\n",
    "for ax, var, lab in zip(axs,variables,labels):\n",
    "    if type(var)==str:\n",
    "        var=[var]\n",
    "        ll=['']\n",
    "    else:\n",
    "        ll=[v+' ' for v in var]\n",
    "    for v,l in zip(var,ll):\n",
    "        if v in ds:\n",
    "            ax.plot(ds.time, ds[v], label=l+sim_id)\n",
    "        elif v in remap:\n",
    "            ax.plot(ds.time, remap[v], label=l+sim_id)\n",
    "        if type(earthcare)==xr.core.dataset.Dataset and v in earthcare:\n",
    "            ax.plot(earthcare.time, earthcare[v], label=l+'EarthCare',marker='o')\n",
    "    ax.set_ylabel(lab)\n",
    "    ax.legend()\n",
    "    ax.grid()\n",
    "    ax.autoscale(tight=True)\n",
    "    \n",
    "plt.savefig(plot_path+'lvl_timeseries_'+month,bbox_inches='tight',dpi=300)"
   ]
  },
  {
   "cell_type": "code",
   "execution_count": null,
   "id": "ff9ddc79-8816-496e-b700-3d1ac641089e",
   "metadata": {},
   "outputs": [],
   "source": [
    "# Plot scatter KS_cloud vs KS_void\n",
    "\n",
    "plot_path = f\"./figures/\"\n",
    "\n",
    "gr = remap.groupby('time.hour')\n",
    "\n",
    "plt.figure()\n",
    "for h in gr.groups.keys():\n",
    "    plt.plot(gr[h]['ks_cloud'],gr[h]['ks_void'],'o',label=f\"{h:02d}:00\")\n",
    "if type(earthcare)==xr.core.dataset.Dataset:\n",
    "    plt.plot(earthcare['ks_cloud'],earthcare['ks_void'],'o',label='EarthCare',color='black')\n",
    "plt.grid()\n",
    "plt.legend()\n",
    "plt.xlabel('Deviation from randomness: cloud chord lengths')\n",
    "plt.ylabel('Deviation from randomness: void chord lengths')\n",
    "plt.title(sim_id+' in '+month)\n",
    "plt.savefig(plot_path+'lvl_scatter_'+month,bbox_inches='tight',dpi=300)"
   ]
  },
  {
   "cell_type": "code",
   "execution_count": null,
   "id": "bc36866f-00fe-48c8-aa9a-cfca01f3d2f6",
   "metadata": {},
   "outputs": [],
   "source": [
    "# Accumulate distributions at each hour and overall\n",
    "\n",
    "lvl_hour = sc.LvL2groupby(remap.groupby('time.hour'))\n",
    "lvl_all  = sc.LvL2groupby(remap).expand_dims({'hour':np.array([25])})"
   ]
  },
  {
   "cell_type": "code",
   "execution_count": null,
   "id": "dc4034d7-045f-4699-b50e-55694b0f2b7e",
   "metadata": {},
   "outputs": [],
   "source": [
    "# Plot accumulated distributions\n",
    "\n",
    "lvl = xr.merge((lvl_hour,lvl_all))\n",
    "\n",
    "Ncol = 5\n",
    "Nrow = (lvl.dims['hour']+1)//Ncol\n",
    "fig, axs = plt.subplots(Nrow,Ncol, figsize=(4*Ncol,4*Nrow),\n",
    "                        sharey=True, sharex=True, constrained_layout=True)\n",
    "\n",
    "for ax, h in zip(axs.flat,lvl.hour):\n",
    "    sc.plot_LvL_dist(ax,lvl.sel(hour=h))\n",
    "    ax.set_ylim(1e-6,1)\n",
    "    ax.set_xlim(lvl.attrs['resolution'],1e3)\n",
    "    if h>24:\n",
    "        ax.set_title(f\"all \"+ax.get_title())\n",
    "    else:\n",
    "        ax.set_title(f\"{h:d}:00 \"+ax.get_title())\n",
    "axs.flat[0].set_ylabel('Probability')\n",
    "axs.flat[0].legend()\n",
    "\n",
    "plt.suptitle(sim_id+' in '+month)\n",
    "plt.savefig(plot_path+'lvl_distributions_'+month,bbox_inches='tight',dpi=300)"
   ]
  },
  {
   "cell_type": "code",
   "execution_count": null,
   "id": "a0df61bb-0922-4c7e-8cc4-a4e849ff851c",
   "metadata": {},
   "outputs": [],
   "source": [
    "# Plot example maps and distributions\n",
    "\n",
    "plot_path = f\"./figures/lvl/\"\n",
    "\n",
    "time_step = np.timedelta64(5,'D') \n",
    "\n",
    "for t in np.arange(remap.time[0].values,remap.time[-1].values,time_step):\n",
    "\n",
    "    fig, axs = plt.subplots(1,3,figsize=(4*3,4),\n",
    "                            subplot_kw={\"projection\": ccrs.PlateCarree()},\n",
    "                            constrained_layout=True)\n",
    "\n",
    "    # LWP in original healpix grid\n",
    "    da = ds['lwp'].sel(time=t)\n",
    "    ax = axs[0]\n",
    "    sc.draw_map(ax,map_domain)\n",
    "    im = egh.healpix_show(da, ax=ax, cmap='Blues_r',vmin=0,vmax=1)\n",
    "    sc.annotate_map(ax,da,im)\n",
    "\n",
    "    # Cloudmask in lon-lat\n",
    "    da = remap['cloud_mask'].sel(time=t)\n",
    "    ax = axs[1]\n",
    "    sc.draw_map(ax,map_domain)\n",
    "    im = ax.imshow(da, extent=ax.get_xlim() + ax.get_ylim(), origin=\"lower\",\n",
    "                   cmap='Blues_r',vmin=0,vmax=1)\n",
    "    sc.annotate_map(ax,da,im)\n",
    "\n",
    "    # Cloud/void chord length distribution\n",
    "    axs[-1].remove()\n",
    "    ax = fig.add_subplot(1,3,3)\n",
    "    sc.plot_LvL_dist(ax,remap.sel(time=t))\n",
    "    ax.set_ylim(1e-3,1)\n",
    "    ax.set_xlim(remap.attrs['resolution'],1e3)\n",
    "\n",
    "    plt.suptitle(sim_id)\n",
    "    datestr = t.astype('datetime64[h]').item().strftime('%Y-%m-%dT%H')\n",
    "    plt.savefig(plot_path+datestr,bbox_inches='tight',dpi=300)\n",
    "    print(datestr)\n",
    "    # plt.close(fig)"
   ]
  }
 ],
 "metadata": {
  "kernelspec": {
   "display_name": "global-hackathon",
   "language": "python",
   "name": "global-hackathon"
  },
  "language_info": {
   "codemirror_mode": {
    "name": "ipython",
    "version": 3
   },
   "file_extension": ".py",
   "mimetype": "text/x-python",
   "name": "python",
   "nbconvert_exporter": "python",
   "pygments_lexer": "ipython3",
   "version": "3.12.10"
  }
 },
 "nbformat": 4,
 "nbformat_minor": 5
}
